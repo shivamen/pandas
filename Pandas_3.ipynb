{
 "cells": [
  {
   "cell_type": "code",
   "execution_count": 1,
   "metadata": {},
   "outputs": [
    {
     "data": {
      "text/plain": [
       "'D:\\\\analytixlabs\\\\DataSets'"
      ]
     },
     "execution_count": 1,
     "metadata": {},
     "output_type": "execute_result"
    }
   ],
   "source": [
    "import pandas as pd\n",
    "import os\n",
    "os.chdir(r'D:\\analytixlabs\\DataSets')\n",
    "os.getcwd()"
   ]
  },
  {
   "cell_type": "code",
   "execution_count": 2,
   "metadata": {},
   "outputs": [
    {
     "data": {
      "text/plain": [
       "(32, 15)"
      ]
     },
     "execution_count": 2,
     "metadata": {},
     "output_type": "execute_result"
    }
   ],
   "source": [
    "stores = pd.read_csv(\"stores.csv\") \n",
    "stores.shape"
   ]
  },
  {
   "cell_type": "markdown",
   "metadata": {},
   "source": [
    "# User Defined Functions on a DataFrame"
   ]
  },
  {
   "cell_type": "code",
   "execution_count": 1,
   "metadata": {},
   "outputs": [],
   "source": [
    "def square(x):\n",
    "    return x**2"
   ]
  },
  {
   "cell_type": "code",
   "execution_count": 2,
   "metadata": {},
   "outputs": [],
   "source": [
    "l1 = [3,5,3,8,7,6,5,9,10,2,3,5,25]"
   ]
  },
  {
   "cell_type": "code",
   "execution_count": 3,
   "metadata": {},
   "outputs": [
    {
     "name": "stdout",
     "output_type": "stream",
     "text": [
      "9\n",
      "25\n",
      "9\n",
      "64\n",
      "49\n",
      "36\n",
      "25\n",
      "81\n",
      "100\n",
      "4\n",
      "9\n",
      "25\n",
      "625\n"
     ]
    }
   ],
   "source": [
    "for ele in l1:\n",
    "    print(square(ele))"
   ]
  },
  {
   "cell_type": "code",
   "execution_count": 4,
   "metadata": {},
   "outputs": [
    {
     "data": {
      "text/plain": [
       "[9, 25, 9, 64, 49, 36, 25, 81, 100, 4, 9, 25, 625]"
      ]
     },
     "execution_count": 4,
     "metadata": {},
     "output_type": "execute_result"
    }
   ],
   "source": [
    "[square(ele) for ele in l1]  #list comprehension\n",
    "\n",
    "# taking a function and applying it on the entire data structure"
   ]
  },
  {
   "cell_type": "code",
   "execution_count": 5,
   "metadata": {},
   "outputs": [],
   "source": [
    "import pandas as pd\n",
    "# For all the 1d data structures, we can easily use loops\n",
    "# on 2d DS, loop is impractical. so we need some other mechanism\n",
    "#    - a function that can take another function and its args and apply it on the DataFrame\n",
    "\n",
    "# so ---> Series.apply() and DataFrame.apply()\n",
    "# apply() takes a funciton and their args and applies it on the DF or Series\n",
    "\n",
    "sample_data = {\n",
    "    \"col1\":[10,3,56,2,10],\n",
    "    \"col2\":[4,32,6,2,20],\n",
    "    \"col3\":[5,23,5,4,6]    \n",
    "}\n",
    "sample_data = pd.DataFrame(sample_data)"
   ]
  },
  {
   "cell_type": "code",
   "execution_count": 6,
   "metadata": {},
   "outputs": [
    {
     "data": {
      "text/html": [
       "<div>\n",
       "<style scoped>\n",
       "    .dataframe tbody tr th:only-of-type {\n",
       "        vertical-align: middle;\n",
       "    }\n",
       "\n",
       "    .dataframe tbody tr th {\n",
       "        vertical-align: top;\n",
       "    }\n",
       "\n",
       "    .dataframe thead th {\n",
       "        text-align: right;\n",
       "    }\n",
       "</style>\n",
       "<table border=\"1\" class=\"dataframe\">\n",
       "  <thead>\n",
       "    <tr style=\"text-align: right;\">\n",
       "      <th></th>\n",
       "      <th>col1</th>\n",
       "      <th>col2</th>\n",
       "      <th>col3</th>\n",
       "    </tr>\n",
       "  </thead>\n",
       "  <tbody>\n",
       "    <tr>\n",
       "      <th>0</th>\n",
       "      <td>10</td>\n",
       "      <td>4</td>\n",
       "      <td>5</td>\n",
       "    </tr>\n",
       "    <tr>\n",
       "      <th>1</th>\n",
       "      <td>3</td>\n",
       "      <td>32</td>\n",
       "      <td>23</td>\n",
       "    </tr>\n",
       "    <tr>\n",
       "      <th>2</th>\n",
       "      <td>56</td>\n",
       "      <td>6</td>\n",
       "      <td>5</td>\n",
       "    </tr>\n",
       "    <tr>\n",
       "      <th>3</th>\n",
       "      <td>2</td>\n",
       "      <td>2</td>\n",
       "      <td>4</td>\n",
       "    </tr>\n",
       "    <tr>\n",
       "      <th>4</th>\n",
       "      <td>10</td>\n",
       "      <td>20</td>\n",
       "      <td>6</td>\n",
       "    </tr>\n",
       "  </tbody>\n",
       "</table>\n",
       "</div>"
      ],
      "text/plain": [
       "   col1  col2  col3\n",
       "0    10     4     5\n",
       "1     3    32    23\n",
       "2    56     6     5\n",
       "3     2     2     4\n",
       "4    10    20     6"
      ]
     },
     "execution_count": 6,
     "metadata": {},
     "output_type": "execute_result"
    }
   ],
   "source": [
    "sample_data"
   ]
  },
  {
   "cell_type": "code",
   "execution_count": 7,
   "metadata": {},
   "outputs": [
    {
     "data": {
      "text/html": [
       "<div>\n",
       "<style scoped>\n",
       "    .dataframe tbody tr th:only-of-type {\n",
       "        vertical-align: middle;\n",
       "    }\n",
       "\n",
       "    .dataframe tbody tr th {\n",
       "        vertical-align: top;\n",
       "    }\n",
       "\n",
       "    .dataframe thead th {\n",
       "        text-align: right;\n",
       "    }\n",
       "</style>\n",
       "<table border=\"1\" class=\"dataframe\">\n",
       "  <thead>\n",
       "    <tr style=\"text-align: right;\">\n",
       "      <th></th>\n",
       "      <th>col1</th>\n",
       "      <th>col2</th>\n",
       "      <th>col3</th>\n",
       "    </tr>\n",
       "  </thead>\n",
       "  <tbody>\n",
       "    <tr>\n",
       "      <th>0</th>\n",
       "      <td>100</td>\n",
       "      <td>16</td>\n",
       "      <td>25</td>\n",
       "    </tr>\n",
       "    <tr>\n",
       "      <th>1</th>\n",
       "      <td>9</td>\n",
       "      <td>1024</td>\n",
       "      <td>529</td>\n",
       "    </tr>\n",
       "    <tr>\n",
       "      <th>2</th>\n",
       "      <td>3136</td>\n",
       "      <td>36</td>\n",
       "      <td>25</td>\n",
       "    </tr>\n",
       "    <tr>\n",
       "      <th>3</th>\n",
       "      <td>4</td>\n",
       "      <td>4</td>\n",
       "      <td>16</td>\n",
       "    </tr>\n",
       "    <tr>\n",
       "      <th>4</th>\n",
       "      <td>100</td>\n",
       "      <td>400</td>\n",
       "      <td>36</td>\n",
       "    </tr>\n",
       "  </tbody>\n",
       "</table>\n",
       "</div>"
      ],
      "text/plain": [
       "   col1  col2  col3\n",
       "0   100    16    25\n",
       "1     9  1024   529\n",
       "2  3136    36    25\n",
       "3     4     4    16\n",
       "4   100   400    36"
      ]
     },
     "execution_count": 7,
     "metadata": {},
     "output_type": "execute_result"
    }
   ],
   "source": [
    "# Target : take the funciton square() and apply it on sample_data\n",
    "# how to do it?\n",
    "# we'll make use Series.apply()  ---> DF.apply()\n",
    "sample_data.apply(square)      # we are not calling function\n",
    "\n",
    "# sample_data.apply(square()) # incorrect!!! \n",
    "\n",
    "# - The function named \"square\" got applied to each and every column\n",
    "# - the square function has one argument x and that x is being supplied by the columns\n",
    "#       square(x)"
   ]
  },
  {
   "cell_type": "code",
   "execution_count": 8,
   "metadata": {},
   "outputs": [],
   "source": [
    "def power(x,p=1):\n",
    "    return x ** p"
   ]
  },
  {
   "cell_type": "code",
   "execution_count": 9,
   "metadata": {},
   "outputs": [
    {
     "data": {
      "text/plain": [
       "32"
      ]
     },
     "execution_count": 9,
     "metadata": {},
     "output_type": "execute_result"
    }
   ],
   "source": [
    "power(x=2,p=5)"
   ]
  },
  {
   "cell_type": "code",
   "execution_count": 10,
   "metadata": {},
   "outputs": [
    {
     "data": {
      "text/html": [
       "<div>\n",
       "<style scoped>\n",
       "    .dataframe tbody tr th:only-of-type {\n",
       "        vertical-align: middle;\n",
       "    }\n",
       "\n",
       "    .dataframe tbody tr th {\n",
       "        vertical-align: top;\n",
       "    }\n",
       "\n",
       "    .dataframe thead th {\n",
       "        text-align: right;\n",
       "    }\n",
       "</style>\n",
       "<table border=\"1\" class=\"dataframe\">\n",
       "  <thead>\n",
       "    <tr style=\"text-align: right;\">\n",
       "      <th></th>\n",
       "      <th>col1</th>\n",
       "      <th>col2</th>\n",
       "      <th>col3</th>\n",
       "    </tr>\n",
       "  </thead>\n",
       "  <tbody>\n",
       "    <tr>\n",
       "      <th>0</th>\n",
       "      <td>1000</td>\n",
       "      <td>64</td>\n",
       "      <td>125</td>\n",
       "    </tr>\n",
       "    <tr>\n",
       "      <th>1</th>\n",
       "      <td>27</td>\n",
       "      <td>32768</td>\n",
       "      <td>12167</td>\n",
       "    </tr>\n",
       "    <tr>\n",
       "      <th>2</th>\n",
       "      <td>175616</td>\n",
       "      <td>216</td>\n",
       "      <td>125</td>\n",
       "    </tr>\n",
       "    <tr>\n",
       "      <th>3</th>\n",
       "      <td>8</td>\n",
       "      <td>8</td>\n",
       "      <td>64</td>\n",
       "    </tr>\n",
       "    <tr>\n",
       "      <th>4</th>\n",
       "      <td>1000</td>\n",
       "      <td>8000</td>\n",
       "      <td>216</td>\n",
       "    </tr>\n",
       "  </tbody>\n",
       "</table>\n",
       "</div>"
      ],
      "text/plain": [
       "     col1   col2   col3\n",
       "0    1000     64    125\n",
       "1      27  32768  12167\n",
       "2  175616    216    125\n",
       "3       8      8     64\n",
       "4    1000   8000    216"
      ]
     },
     "execution_count": 10,
     "metadata": {},
     "output_type": "execute_result"
    }
   ],
   "source": [
    "sample_data.apply(power, p=3)\n",
    "\n",
    "#If a function has n number of arguments, at least one argument will be supplied by the data frame\n",
    "#The remaining you need to mention it explicitly using keywords \n",
    "#No, it's not like first argument. It's like one of the arguments present here, \n"
   ]
  },
  {
   "cell_type": "code",
   "execution_count": 11,
   "metadata": {},
   "outputs": [
    {
     "data": {
      "text/html": [
       "<div>\n",
       "<style scoped>\n",
       "    .dataframe tbody tr th:only-of-type {\n",
       "        vertical-align: middle;\n",
       "    }\n",
       "\n",
       "    .dataframe tbody tr th {\n",
       "        vertical-align: top;\n",
       "    }\n",
       "\n",
       "    .dataframe thead th {\n",
       "        text-align: right;\n",
       "    }\n",
       "</style>\n",
       "<table border=\"1\" class=\"dataframe\">\n",
       "  <thead>\n",
       "    <tr style=\"text-align: right;\">\n",
       "      <th></th>\n",
       "      <th>col1</th>\n",
       "      <th>col3</th>\n",
       "    </tr>\n",
       "  </thead>\n",
       "  <tbody>\n",
       "    <tr>\n",
       "      <th>0</th>\n",
       "      <td>1000</td>\n",
       "      <td>125</td>\n",
       "    </tr>\n",
       "    <tr>\n",
       "      <th>1</th>\n",
       "      <td>27</td>\n",
       "      <td>12167</td>\n",
       "    </tr>\n",
       "    <tr>\n",
       "      <th>2</th>\n",
       "      <td>175616</td>\n",
       "      <td>125</td>\n",
       "    </tr>\n",
       "    <tr>\n",
       "      <th>3</th>\n",
       "      <td>8</td>\n",
       "      <td>64</td>\n",
       "    </tr>\n",
       "    <tr>\n",
       "      <th>4</th>\n",
       "      <td>1000</td>\n",
       "      <td>216</td>\n",
       "    </tr>\n",
       "  </tbody>\n",
       "</table>\n",
       "</div>"
      ],
      "text/plain": [
       "     col1   col3\n",
       "0    1000    125\n",
       "1      27  12167\n",
       "2  175616    125\n",
       "3       8     64\n",
       "4    1000    216"
      ]
     },
     "execution_count": 11,
     "metadata": {},
     "output_type": "execute_result"
    }
   ],
   "source": [
    "sample_data[[\"col1\",\"col3\"]].apply(power, p=3) # applying functions on specific columns"
   ]
  },
  {
   "cell_type": "code",
   "execution_count": 12,
   "metadata": {},
   "outputs": [
    {
     "data": {
      "text/html": [
       "<div>\n",
       "<style scoped>\n",
       "    .dataframe tbody tr th:only-of-type {\n",
       "        vertical-align: middle;\n",
       "    }\n",
       "\n",
       "    .dataframe tbody tr th {\n",
       "        vertical-align: top;\n",
       "    }\n",
       "\n",
       "    .dataframe thead th {\n",
       "        text-align: right;\n",
       "    }\n",
       "</style>\n",
       "<table border=\"1\" class=\"dataframe\">\n",
       "  <thead>\n",
       "    <tr style=\"text-align: right;\">\n",
       "      <th></th>\n",
       "      <th>col1</th>\n",
       "      <th>col3</th>\n",
       "    </tr>\n",
       "  </thead>\n",
       "  <tbody>\n",
       "    <tr>\n",
       "      <th>0</th>\n",
       "      <td>1000</td>\n",
       "      <td>125</td>\n",
       "    </tr>\n",
       "    <tr>\n",
       "      <th>1</th>\n",
       "      <td>27</td>\n",
       "      <td>12167</td>\n",
       "    </tr>\n",
       "    <tr>\n",
       "      <th>2</th>\n",
       "      <td>175616</td>\n",
       "      <td>125</td>\n",
       "    </tr>\n",
       "    <tr>\n",
       "      <th>3</th>\n",
       "      <td>8</td>\n",
       "      <td>64</td>\n",
       "    </tr>\n",
       "    <tr>\n",
       "      <th>4</th>\n",
       "      <td>1000</td>\n",
       "      <td>216</td>\n",
       "    </tr>\n",
       "  </tbody>\n",
       "</table>\n",
       "</div>"
      ],
      "text/plain": [
       "     col1   col3\n",
       "0    1000    125\n",
       "1      27  12167\n",
       "2  175616    125\n",
       "3       8     64\n",
       "4    1000    216"
      ]
     },
     "execution_count": 12,
     "metadata": {},
     "output_type": "execute_result"
    }
   ],
   "source": [
    "sample_data.iloc[:,[0,2]].apply(power, p=3) #using iloc"
   ]
  },
  {
   "cell_type": "markdown",
   "metadata": {},
   "source": [
    "## Create an user defined function for calculating count, nmiss, sum, avg, 0%, 1%, 5%, 10%, 25%, 50%, 75%, 90%, 95%, 99%, 100% for a DF/Series"
   ]
  },
  {
   "cell_type": "code",
   "execution_count": 13,
   "metadata": {},
   "outputs": [
    {
     "data": {
      "text/plain": [
       "0      3\n",
       "1      5\n",
       "2      3\n",
       "3      8\n",
       "4      7\n",
       "5      6\n",
       "6      5\n",
       "7      9\n",
       "8     10\n",
       "9      2\n",
       "10     3\n",
       "11     5\n",
       "12    25\n",
       "dtype: int64"
      ]
     },
     "execution_count": 13,
     "metadata": {},
     "output_type": "execute_result"
    }
   ],
   "source": [
    "ser1 = pd.Series(l1)\n",
    "ser1"
   ]
  },
  {
   "cell_type": "code",
   "execution_count": 15,
   "metadata": {},
   "outputs": [
    {
     "data": {
      "text/plain": [
       "5.94418483337567"
      ]
     },
     "execution_count": 15,
     "metadata": {},
     "output_type": "execute_result"
    }
   ],
   "source": [
    "# ser1\n",
    "# calculate count, nmiss, sum, avg, std\n",
    "ser1.count()\n",
    "len(ser1) - ser1.count()\n",
    "ser1.sum()\n",
    "ser1.mean()\n",
    "ser1.std()"
   ]
  },
  {
   "cell_type": "code",
   "execution_count": 14,
   "metadata": {},
   "outputs": [
    {
     "data": {
      "text/plain": [
       "13"
      ]
     },
     "execution_count": 14,
     "metadata": {},
     "output_type": "execute_result"
    }
   ],
   "source": [
    "ser1.count()"
   ]
  },
  {
   "cell_type": "code",
   "execution_count": 20,
   "metadata": {},
   "outputs": [
    {
     "data": {
      "text/plain": [
       "0"
      ]
     },
     "execution_count": 20,
     "metadata": {},
     "output_type": "execute_result"
    }
   ],
   "source": [
    "ser1.isnull().sum()\n",
    "ser1.shape[0]-ser1.count()\n",
    "len(ser1) - ser1.count()"
   ]
  },
  {
   "cell_type": "code",
   "execution_count": 15,
   "metadata": {},
   "outputs": [
    {
     "data": {
      "text/plain": [
       "91"
      ]
     },
     "execution_count": 15,
     "metadata": {},
     "output_type": "execute_result"
    }
   ],
   "source": [
    "ser1.sum()"
   ]
  },
  {
   "cell_type": "code",
   "execution_count": 22,
   "metadata": {},
   "outputs": [
    {
     "data": {
      "text/plain": [
       "7.0"
      ]
     },
     "execution_count": 22,
     "metadata": {},
     "output_type": "execute_result"
    }
   ],
   "source": [
    "ser1.mean()"
   ]
  },
  {
   "cell_type": "code",
   "execution_count": 21,
   "metadata": {},
   "outputs": [
    {
     "data": {
      "text/plain": [
       "5.94418483337567"
      ]
     },
     "execution_count": 21,
     "metadata": {},
     "output_type": "execute_result"
    }
   ],
   "source": [
    "ser1.std()"
   ]
  },
  {
   "cell_type": "code",
   "execution_count": 23,
   "metadata": {},
   "outputs": [
    {
     "data": {
      "text/plain": [
       "0%         2.00\n",
       "1%         2.12\n",
       "5%         2.60\n",
       "10%        3.00\n",
       "Q1         3.00\n",
       "median     5.00\n",
       "Q3         8.00\n",
       "90%        9.80\n",
       "95%       16.00\n",
       "99%       23.20\n",
       "100%      25.00\n",
       "dtype: float64"
      ]
     },
     "execution_count": 23,
     "metadata": {},
     "output_type": "execute_result"
    }
   ],
   "source": [
    "# ser1\n",
    "# 0%, 1%, 5%, 10%, 25%, 50%, 75%, 90%, 95%, 99%, 100% for a DF/Series\n",
    "q = ser1.quantile([0,0.01,0.05,0.1,0.25,0.5,0.75,0.9,0.95,0.99,1])\n",
    "q.index = ['0%', '1%', '5%', '10%', 'Q1', 'median', 'Q3', '90%', '95%', '99%', '100%']\n",
    "q"
   ]
  },
  {
   "cell_type": "code",
   "execution_count": 30,
   "metadata": {},
   "outputs": [],
   "source": []
  },
  {
   "cell_type": "code",
   "execution_count": 31,
   "metadata": {},
   "outputs": [],
   "source": [
    "def cont_univariate(x):\n",
    "    import pandas as pd\n",
    "    x = pd.Series(x)\n",
    "    n = x.count()\n",
    "    nmiss = len(x) - n\n",
    "    Sum = x.sum()\n",
    "    Avg = x.mean()\n",
    "    stdev = x.std()\n",
    "    q = x.quantile([0,0.01,0.05,0.1,0.25,0.5,0.75,0.9,0.95,0.99,1])\n",
    "    q.index = ['0%', '1%', '5%', '10%', 'Q1', 'median', 'Q3', '90%', '95%', '99%', '100%']\n",
    "    \n",
    "    r1 = pd.Series([n,nmiss,Sum,Avg,stdev],index = [\"counts\",\"nmiss\",\"SUM\",\"AVG\",\"STD_DEV\"])\n",
    "    \n",
    "    res = pd.concat([r1,q],axis=0)\n",
    "    \n",
    "    return res"
   ]
  },
  {
   "cell_type": "code",
   "execution_count": 32,
   "metadata": {},
   "outputs": [
    {
     "data": {
      "text/plain": [
       "counts     13.000000\n",
       "nmiss       0.000000\n",
       "SUM        91.000000\n",
       "AVG         7.000000\n",
       "STD_DEV     5.944185\n",
       "0%          2.000000\n",
       "1%          2.120000\n",
       "5%          2.600000\n",
       "10%         3.000000\n",
       "Q1          3.000000\n",
       "median      5.000000\n",
       "Q3          8.000000\n",
       "90%         9.800000\n",
       "95%        16.000000\n",
       "99%        23.200000\n",
       "100%       25.000000\n",
       "dtype: float64"
      ]
     },
     "execution_count": 32,
     "metadata": {},
     "output_type": "execute_result"
    }
   ],
   "source": [
    "cont_univariate(ser1)"
   ]
  },
  {
   "cell_type": "code",
   "execution_count": 35,
   "metadata": {},
   "outputs": [
    {
     "data": {
      "text/plain": [
       "counts       7.000000\n",
       "nmiss        0.000000\n",
       "SUM        243.000000\n",
       "AVG         34.714286\n",
       "STD_DEV     18.580584\n",
       "0%          12.000000\n",
       "1%          12.540000\n",
       "5%          14.700000\n",
       "10%         17.400000\n",
       "Q1          22.000000\n",
       "median      34.000000\n",
       "Q3          44.500000\n",
       "90%         58.000000\n",
       "95%         61.000000\n",
       "99%         63.400000\n",
       "100%        64.000000\n",
       "dtype: float64"
      ]
     },
     "execution_count": 35,
     "metadata": {},
     "output_type": "execute_result"
    }
   ],
   "source": [
    "l2 = [12,34,54,21,35,64,23]\n",
    "cont_univariate(l2)"
   ]
  },
  {
   "cell_type": "code",
   "execution_count": 40,
   "metadata": {},
   "outputs": [
    {
     "data": {
      "text/html": [
       "<div>\n",
       "<style scoped>\n",
       "    .dataframe tbody tr th:only-of-type {\n",
       "        vertical-align: middle;\n",
       "    }\n",
       "\n",
       "    .dataframe tbody tr th {\n",
       "        vertical-align: top;\n",
       "    }\n",
       "\n",
       "    .dataframe thead th {\n",
       "        text-align: right;\n",
       "    }\n",
       "</style>\n",
       "<table border=\"1\" class=\"dataframe\">\n",
       "  <thead>\n",
       "    <tr style=\"text-align: right;\">\n",
       "      <th></th>\n",
       "      <th>StoreCode</th>\n",
       "      <th>StoreName</th>\n",
       "      <th>StoreType</th>\n",
       "      <th>Location</th>\n",
       "      <th>OperatingCost</th>\n",
       "      <th>Staff_Cnt</th>\n",
       "      <th>TotalSales</th>\n",
       "      <th>Total_Customers</th>\n",
       "      <th>AcqCostPercust</th>\n",
       "      <th>BasketSize</th>\n",
       "      <th>ProfitPercust</th>\n",
       "      <th>OwnStore</th>\n",
       "      <th>OnlinePresence</th>\n",
       "      <th>Tenure</th>\n",
       "      <th>StoreSegment</th>\n",
       "    </tr>\n",
       "  </thead>\n",
       "  <tbody>\n",
       "    <tr>\n",
       "      <th>0</th>\n",
       "      <td>STR101</td>\n",
       "      <td>Electronics Zone</td>\n",
       "      <td>Electronincs</td>\n",
       "      <td>Delhi</td>\n",
       "      <td>21.0</td>\n",
       "      <td>60</td>\n",
       "      <td>160.0</td>\n",
       "      <td>110</td>\n",
       "      <td>3.90</td>\n",
       "      <td>2.620</td>\n",
       "      <td>16.46</td>\n",
       "      <td>0</td>\n",
       "      <td>1</td>\n",
       "      <td>4</td>\n",
       "      <td>4</td>\n",
       "    </tr>\n",
       "    <tr>\n",
       "      <th>1</th>\n",
       "      <td>STR102</td>\n",
       "      <td>Apparel Zone</td>\n",
       "      <td>Apparel</td>\n",
       "      <td>Delhi</td>\n",
       "      <td>21.0</td>\n",
       "      <td>60</td>\n",
       "      <td>160.0</td>\n",
       "      <td>110</td>\n",
       "      <td>3.90</td>\n",
       "      <td>2.875</td>\n",
       "      <td>17.02</td>\n",
       "      <td>0</td>\n",
       "      <td>1</td>\n",
       "      <td>4</td>\n",
       "      <td>4</td>\n",
       "    </tr>\n",
       "    <tr>\n",
       "      <th>2</th>\n",
       "      <td>STR103</td>\n",
       "      <td>Super Bazar</td>\n",
       "      <td>Super Market</td>\n",
       "      <td>Delhi</td>\n",
       "      <td>22.8</td>\n",
       "      <td>40</td>\n",
       "      <td>108.0</td>\n",
       "      <td>93</td>\n",
       "      <td>3.85</td>\n",
       "      <td>2.320</td>\n",
       "      <td>18.61</td>\n",
       "      <td>1</td>\n",
       "      <td>1</td>\n",
       "      <td>4</td>\n",
       "      <td>1</td>\n",
       "    </tr>\n",
       "    <tr>\n",
       "      <th>3</th>\n",
       "      <td>STR104</td>\n",
       "      <td>Super Market</td>\n",
       "      <td>Super Market</td>\n",
       "      <td>Delhi</td>\n",
       "      <td>21.4</td>\n",
       "      <td>60</td>\n",
       "      <td>258.0</td>\n",
       "      <td>110</td>\n",
       "      <td>3.08</td>\n",
       "      <td>3.215</td>\n",
       "      <td>19.44</td>\n",
       "      <td>1</td>\n",
       "      <td>0</td>\n",
       "      <td>3</td>\n",
       "      <td>1</td>\n",
       "    </tr>\n",
       "    <tr>\n",
       "      <th>4</th>\n",
       "      <td>STR105</td>\n",
       "      <td>Central Store</td>\n",
       "      <td>Super Market</td>\n",
       "      <td>Delhi</td>\n",
       "      <td>18.7</td>\n",
       "      <td>80</td>\n",
       "      <td>360.0</td>\n",
       "      <td>175</td>\n",
       "      <td>3.15</td>\n",
       "      <td>3.440</td>\n",
       "      <td>17.02</td>\n",
       "      <td>0</td>\n",
       "      <td>0</td>\n",
       "      <td>3</td>\n",
       "      <td>2</td>\n",
       "    </tr>\n",
       "  </tbody>\n",
       "</table>\n",
       "</div>"
      ],
      "text/plain": [
       "  StoreCode         StoreName     StoreType Location  OperatingCost  \\\n",
       "0    STR101  Electronics Zone  Electronincs    Delhi           21.0   \n",
       "1    STR102      Apparel Zone       Apparel    Delhi           21.0   \n",
       "2    STR103       Super Bazar  Super Market    Delhi           22.8   \n",
       "3    STR104      Super Market  Super Market    Delhi           21.4   \n",
       "4    STR105     Central Store  Super Market    Delhi           18.7   \n",
       "\n",
       "   Staff_Cnt  TotalSales  Total_Customers  AcqCostPercust  BasketSize  \\\n",
       "0         60       160.0              110            3.90       2.620   \n",
       "1         60       160.0              110            3.90       2.875   \n",
       "2         40       108.0               93            3.85       2.320   \n",
       "3         60       258.0              110            3.08       3.215   \n",
       "4         80       360.0              175            3.15       3.440   \n",
       "\n",
       "   ProfitPercust  OwnStore  OnlinePresence  Tenure  StoreSegment  \n",
       "0          16.46         0               1       4             4  \n",
       "1          17.02         0               1       4             4  \n",
       "2          18.61         1               1       4             1  \n",
       "3          19.44         1               0       3             1  \n",
       "4          17.02         0               0       3             2  "
      ]
     },
     "execution_count": 40,
     "metadata": {},
     "output_type": "execute_result"
    }
   ],
   "source": [
    "stores.head()"
   ]
  },
  {
   "cell_type": "markdown",
   "metadata": {},
   "source": [
    "### Above calculations is applicable on continous numericals only, not all numerical cols"
   ]
  },
  {
   "cell_type": "code",
   "execution_count": 39,
   "metadata": {},
   "outputs": [
    {
     "data": {
      "text/html": [
       "<div>\n",
       "<style scoped>\n",
       "    .dataframe tbody tr th:only-of-type {\n",
       "        vertical-align: middle;\n",
       "    }\n",
       "\n",
       "    .dataframe tbody tr th {\n",
       "        vertical-align: top;\n",
       "    }\n",
       "\n",
       "    .dataframe thead th {\n",
       "        text-align: right;\n",
       "    }\n",
       "</style>\n",
       "<table border=\"1\" class=\"dataframe\">\n",
       "  <thead>\n",
       "    <tr style=\"text-align: right;\">\n",
       "      <th></th>\n",
       "      <th>OperatingCost</th>\n",
       "      <th>Staff_Cnt</th>\n",
       "      <th>TotalSales</th>\n",
       "      <th>Total_Customers</th>\n",
       "      <th>AcqCostPercust</th>\n",
       "      <th>BasketSize</th>\n",
       "      <th>ProfitPercust</th>\n",
       "      <th>OwnStore</th>\n",
       "      <th>OnlinePresence</th>\n",
       "      <th>Tenure</th>\n",
       "      <th>StoreSegment</th>\n",
       "    </tr>\n",
       "  </thead>\n",
       "  <tbody>\n",
       "    <tr>\n",
       "      <th>0</th>\n",
       "      <td>21.0</td>\n",
       "      <td>60</td>\n",
       "      <td>160.0</td>\n",
       "      <td>110</td>\n",
       "      <td>3.90</td>\n",
       "      <td>2.620</td>\n",
       "      <td>16.46</td>\n",
       "      <td>0</td>\n",
       "      <td>1</td>\n",
       "      <td>4</td>\n",
       "      <td>4</td>\n",
       "    </tr>\n",
       "    <tr>\n",
       "      <th>1</th>\n",
       "      <td>21.0</td>\n",
       "      <td>60</td>\n",
       "      <td>160.0</td>\n",
       "      <td>110</td>\n",
       "      <td>3.90</td>\n",
       "      <td>2.875</td>\n",
       "      <td>17.02</td>\n",
       "      <td>0</td>\n",
       "      <td>1</td>\n",
       "      <td>4</td>\n",
       "      <td>4</td>\n",
       "    </tr>\n",
       "    <tr>\n",
       "      <th>2</th>\n",
       "      <td>22.8</td>\n",
       "      <td>40</td>\n",
       "      <td>108.0</td>\n",
       "      <td>93</td>\n",
       "      <td>3.85</td>\n",
       "      <td>2.320</td>\n",
       "      <td>18.61</td>\n",
       "      <td>1</td>\n",
       "      <td>1</td>\n",
       "      <td>4</td>\n",
       "      <td>1</td>\n",
       "    </tr>\n",
       "    <tr>\n",
       "      <th>3</th>\n",
       "      <td>21.4</td>\n",
       "      <td>60</td>\n",
       "      <td>258.0</td>\n",
       "      <td>110</td>\n",
       "      <td>3.08</td>\n",
       "      <td>3.215</td>\n",
       "      <td>19.44</td>\n",
       "      <td>1</td>\n",
       "      <td>0</td>\n",
       "      <td>3</td>\n",
       "      <td>1</td>\n",
       "    </tr>\n",
       "    <tr>\n",
       "      <th>4</th>\n",
       "      <td>18.7</td>\n",
       "      <td>80</td>\n",
       "      <td>360.0</td>\n",
       "      <td>175</td>\n",
       "      <td>3.15</td>\n",
       "      <td>3.440</td>\n",
       "      <td>17.02</td>\n",
       "      <td>0</td>\n",
       "      <td>0</td>\n",
       "      <td>3</td>\n",
       "      <td>2</td>\n",
       "    </tr>\n",
       "    <tr>\n",
       "      <th>5</th>\n",
       "      <td>18.1</td>\n",
       "      <td>60</td>\n",
       "      <td>225.0</td>\n",
       "      <td>105</td>\n",
       "      <td>2.76</td>\n",
       "      <td>3.460</td>\n",
       "      <td>20.22</td>\n",
       "      <td>1</td>\n",
       "      <td>0</td>\n",
       "      <td>3</td>\n",
       "      <td>1</td>\n",
       "    </tr>\n",
       "    <tr>\n",
       "      <th>6</th>\n",
       "      <td>14.3</td>\n",
       "      <td>80</td>\n",
       "      <td>360.0</td>\n",
       "      <td>245</td>\n",
       "      <td>3.21</td>\n",
       "      <td>3.570</td>\n",
       "      <td>15.84</td>\n",
       "      <td>0</td>\n",
       "      <td>0</td>\n",
       "      <td>3</td>\n",
       "      <td>4</td>\n",
       "    </tr>\n",
       "    <tr>\n",
       "      <th>7</th>\n",
       "      <td>24.4</td>\n",
       "      <td>40</td>\n",
       "      <td>146.7</td>\n",
       "      <td>62</td>\n",
       "      <td>3.69</td>\n",
       "      <td>3.190</td>\n",
       "      <td>20.00</td>\n",
       "      <td>1</td>\n",
       "      <td>0</td>\n",
       "      <td>4</td>\n",
       "      <td>2</td>\n",
       "    </tr>\n",
       "    <tr>\n",
       "      <th>8</th>\n",
       "      <td>22.8</td>\n",
       "      <td>40</td>\n",
       "      <td>140.8</td>\n",
       "      <td>95</td>\n",
       "      <td>3.92</td>\n",
       "      <td>3.150</td>\n",
       "      <td>22.90</td>\n",
       "      <td>1</td>\n",
       "      <td>0</td>\n",
       "      <td>4</td>\n",
       "      <td>2</td>\n",
       "    </tr>\n",
       "    <tr>\n",
       "      <th>9</th>\n",
       "      <td>19.2</td>\n",
       "      <td>60</td>\n",
       "      <td>167.6</td>\n",
       "      <td>123</td>\n",
       "      <td>3.92</td>\n",
       "      <td>3.440</td>\n",
       "      <td>18.30</td>\n",
       "      <td>1</td>\n",
       "      <td>0</td>\n",
       "      <td>4</td>\n",
       "      <td>4</td>\n",
       "    </tr>\n",
       "    <tr>\n",
       "      <th>10</th>\n",
       "      <td>17.8</td>\n",
       "      <td>60</td>\n",
       "      <td>167.6</td>\n",
       "      <td>123</td>\n",
       "      <td>3.92</td>\n",
       "      <td>3.440</td>\n",
       "      <td>18.90</td>\n",
       "      <td>1</td>\n",
       "      <td>0</td>\n",
       "      <td>4</td>\n",
       "      <td>4</td>\n",
       "    </tr>\n",
       "    <tr>\n",
       "      <th>11</th>\n",
       "      <td>16.4</td>\n",
       "      <td>80</td>\n",
       "      <td>275.8</td>\n",
       "      <td>180</td>\n",
       "      <td>NaN</td>\n",
       "      <td>4.070</td>\n",
       "      <td>17.40</td>\n",
       "      <td>0</td>\n",
       "      <td>0</td>\n",
       "      <td>3</td>\n",
       "      <td>3</td>\n",
       "    </tr>\n",
       "    <tr>\n",
       "      <th>12</th>\n",
       "      <td>17.3</td>\n",
       "      <td>80</td>\n",
       "      <td>275.8</td>\n",
       "      <td>180</td>\n",
       "      <td>NaN</td>\n",
       "      <td>3.730</td>\n",
       "      <td>17.60</td>\n",
       "      <td>0</td>\n",
       "      <td>0</td>\n",
       "      <td>3</td>\n",
       "      <td>3</td>\n",
       "    </tr>\n",
       "    <tr>\n",
       "      <th>13</th>\n",
       "      <td>15.2</td>\n",
       "      <td>80</td>\n",
       "      <td>275.8</td>\n",
       "      <td>180</td>\n",
       "      <td>NaN</td>\n",
       "      <td>3.780</td>\n",
       "      <td>18.00</td>\n",
       "      <td>0</td>\n",
       "      <td>0</td>\n",
       "      <td>3</td>\n",
       "      <td>3</td>\n",
       "    </tr>\n",
       "    <tr>\n",
       "      <th>14</th>\n",
       "      <td>10.4</td>\n",
       "      <td>80</td>\n",
       "      <td>472.0</td>\n",
       "      <td>205</td>\n",
       "      <td>2.93</td>\n",
       "      <td>5.250</td>\n",
       "      <td>17.98</td>\n",
       "      <td>0</td>\n",
       "      <td>0</td>\n",
       "      <td>3</td>\n",
       "      <td>4</td>\n",
       "    </tr>\n",
       "    <tr>\n",
       "      <th>15</th>\n",
       "      <td>10.4</td>\n",
       "      <td>80</td>\n",
       "      <td>460.0</td>\n",
       "      <td>215</td>\n",
       "      <td>3.00</td>\n",
       "      <td>5.424</td>\n",
       "      <td>17.82</td>\n",
       "      <td>0</td>\n",
       "      <td>0</td>\n",
       "      <td>3</td>\n",
       "      <td>4</td>\n",
       "    </tr>\n",
       "    <tr>\n",
       "      <th>16</th>\n",
       "      <td>14.7</td>\n",
       "      <td>80</td>\n",
       "      <td>440.0</td>\n",
       "      <td>230</td>\n",
       "      <td>3.23</td>\n",
       "      <td>5.345</td>\n",
       "      <td>17.42</td>\n",
       "      <td>0</td>\n",
       "      <td>0</td>\n",
       "      <td>3</td>\n",
       "      <td>4</td>\n",
       "    </tr>\n",
       "    <tr>\n",
       "      <th>17</th>\n",
       "      <td>32.4</td>\n",
       "      <td>40</td>\n",
       "      <td>78.7</td>\n",
       "      <td>66</td>\n",
       "      <td>4.08</td>\n",
       "      <td>2.200</td>\n",
       "      <td>19.47</td>\n",
       "      <td>1</td>\n",
       "      <td>1</td>\n",
       "      <td>4</td>\n",
       "      <td>1</td>\n",
       "    </tr>\n",
       "    <tr>\n",
       "      <th>18</th>\n",
       "      <td>30.4</td>\n",
       "      <td>40</td>\n",
       "      <td>75.7</td>\n",
       "      <td>52</td>\n",
       "      <td>4.93</td>\n",
       "      <td>1.615</td>\n",
       "      <td>18.52</td>\n",
       "      <td>1</td>\n",
       "      <td>1</td>\n",
       "      <td>4</td>\n",
       "      <td>2</td>\n",
       "    </tr>\n",
       "    <tr>\n",
       "      <th>19</th>\n",
       "      <td>33.9</td>\n",
       "      <td>40</td>\n",
       "      <td>71.1</td>\n",
       "      <td>65</td>\n",
       "      <td>4.22</td>\n",
       "      <td>1.835</td>\n",
       "      <td>19.90</td>\n",
       "      <td>1</td>\n",
       "      <td>1</td>\n",
       "      <td>4</td>\n",
       "      <td>1</td>\n",
       "    </tr>\n",
       "    <tr>\n",
       "      <th>20</th>\n",
       "      <td>21.5</td>\n",
       "      <td>40</td>\n",
       "      <td>120.1</td>\n",
       "      <td>97</td>\n",
       "      <td>3.70</td>\n",
       "      <td>2.465</td>\n",
       "      <td>20.01</td>\n",
       "      <td>1</td>\n",
       "      <td>0</td>\n",
       "      <td>3</td>\n",
       "      <td>1</td>\n",
       "    </tr>\n",
       "    <tr>\n",
       "      <th>21</th>\n",
       "      <td>15.5</td>\n",
       "      <td>80</td>\n",
       "      <td>318.0</td>\n",
       "      <td>150</td>\n",
       "      <td>2.76</td>\n",
       "      <td>3.520</td>\n",
       "      <td>16.87</td>\n",
       "      <td>0</td>\n",
       "      <td>0</td>\n",
       "      <td>3</td>\n",
       "      <td>2</td>\n",
       "    </tr>\n",
       "    <tr>\n",
       "      <th>22</th>\n",
       "      <td>15.2</td>\n",
       "      <td>80</td>\n",
       "      <td>304.0</td>\n",
       "      <td>150</td>\n",
       "      <td>3.15</td>\n",
       "      <td>3.435</td>\n",
       "      <td>17.30</td>\n",
       "      <td>0</td>\n",
       "      <td>0</td>\n",
       "      <td>3</td>\n",
       "      <td>2</td>\n",
       "    </tr>\n",
       "    <tr>\n",
       "      <th>23</th>\n",
       "      <td>13.3</td>\n",
       "      <td>80</td>\n",
       "      <td>350.0</td>\n",
       "      <td>245</td>\n",
       "      <td>3.73</td>\n",
       "      <td>3.840</td>\n",
       "      <td>15.41</td>\n",
       "      <td>0</td>\n",
       "      <td>0</td>\n",
       "      <td>3</td>\n",
       "      <td>4</td>\n",
       "    </tr>\n",
       "    <tr>\n",
       "      <th>24</th>\n",
       "      <td>19.2</td>\n",
       "      <td>80</td>\n",
       "      <td>400.0</td>\n",
       "      <td>175</td>\n",
       "      <td>3.08</td>\n",
       "      <td>3.845</td>\n",
       "      <td>17.05</td>\n",
       "      <td>0</td>\n",
       "      <td>0</td>\n",
       "      <td>3</td>\n",
       "      <td>2</td>\n",
       "    </tr>\n",
       "    <tr>\n",
       "      <th>25</th>\n",
       "      <td>27.3</td>\n",
       "      <td>40</td>\n",
       "      <td>79.0</td>\n",
       "      <td>66</td>\n",
       "      <td>4.08</td>\n",
       "      <td>1.935</td>\n",
       "      <td>18.90</td>\n",
       "      <td>1</td>\n",
       "      <td>1</td>\n",
       "      <td>4</td>\n",
       "      <td>1</td>\n",
       "    </tr>\n",
       "    <tr>\n",
       "      <th>26</th>\n",
       "      <td>26.0</td>\n",
       "      <td>40</td>\n",
       "      <td>120.3</td>\n",
       "      <td>91</td>\n",
       "      <td>4.43</td>\n",
       "      <td>2.140</td>\n",
       "      <td>16.70</td>\n",
       "      <td>0</td>\n",
       "      <td>1</td>\n",
       "      <td>5</td>\n",
       "      <td>2</td>\n",
       "    </tr>\n",
       "    <tr>\n",
       "      <th>27</th>\n",
       "      <td>30.4</td>\n",
       "      <td>40</td>\n",
       "      <td>95.1</td>\n",
       "      <td>113</td>\n",
       "      <td>3.77</td>\n",
       "      <td>1.513</td>\n",
       "      <td>16.90</td>\n",
       "      <td>1</td>\n",
       "      <td>1</td>\n",
       "      <td>5</td>\n",
       "      <td>2</td>\n",
       "    </tr>\n",
       "    <tr>\n",
       "      <th>28</th>\n",
       "      <td>15.8</td>\n",
       "      <td>80</td>\n",
       "      <td>351.0</td>\n",
       "      <td>264</td>\n",
       "      <td>4.22</td>\n",
       "      <td>3.170</td>\n",
       "      <td>14.50</td>\n",
       "      <td>0</td>\n",
       "      <td>1</td>\n",
       "      <td>5</td>\n",
       "      <td>4</td>\n",
       "    </tr>\n",
       "    <tr>\n",
       "      <th>29</th>\n",
       "      <td>19.7</td>\n",
       "      <td>60</td>\n",
       "      <td>145.0</td>\n",
       "      <td>175</td>\n",
       "      <td>3.62</td>\n",
       "      <td>2.770</td>\n",
       "      <td>15.50</td>\n",
       "      <td>0</td>\n",
       "      <td>1</td>\n",
       "      <td>5</td>\n",
       "      <td>4</td>\n",
       "    </tr>\n",
       "    <tr>\n",
       "      <th>30</th>\n",
       "      <td>15.0</td>\n",
       "      <td>80</td>\n",
       "      <td>301.0</td>\n",
       "      <td>335</td>\n",
       "      <td>3.54</td>\n",
       "      <td>3.570</td>\n",
       "      <td>14.60</td>\n",
       "      <td>0</td>\n",
       "      <td>1</td>\n",
       "      <td>5</td>\n",
       "      <td>4</td>\n",
       "    </tr>\n",
       "    <tr>\n",
       "      <th>31</th>\n",
       "      <td>21.4</td>\n",
       "      <td>40</td>\n",
       "      <td>121.0</td>\n",
       "      <td>109</td>\n",
       "      <td>4.11</td>\n",
       "      <td>2.780</td>\n",
       "      <td>18.60</td>\n",
       "      <td>1</td>\n",
       "      <td>1</td>\n",
       "      <td>4</td>\n",
       "      <td>2</td>\n",
       "    </tr>\n",
       "  </tbody>\n",
       "</table>\n",
       "</div>"
      ],
      "text/plain": [
       "    OperatingCost  Staff_Cnt  TotalSales  Total_Customers  AcqCostPercust  \\\n",
       "0            21.0         60       160.0              110            3.90   \n",
       "1            21.0         60       160.0              110            3.90   \n",
       "2            22.8         40       108.0               93            3.85   \n",
       "3            21.4         60       258.0              110            3.08   \n",
       "4            18.7         80       360.0              175            3.15   \n",
       "5            18.1         60       225.0              105            2.76   \n",
       "6            14.3         80       360.0              245            3.21   \n",
       "7            24.4         40       146.7               62            3.69   \n",
       "8            22.8         40       140.8               95            3.92   \n",
       "9            19.2         60       167.6              123            3.92   \n",
       "10           17.8         60       167.6              123            3.92   \n",
       "11           16.4         80       275.8              180             NaN   \n",
       "12           17.3         80       275.8              180             NaN   \n",
       "13           15.2         80       275.8              180             NaN   \n",
       "14           10.4         80       472.0              205            2.93   \n",
       "15           10.4         80       460.0              215            3.00   \n",
       "16           14.7         80       440.0              230            3.23   \n",
       "17           32.4         40        78.7               66            4.08   \n",
       "18           30.4         40        75.7               52            4.93   \n",
       "19           33.9         40        71.1               65            4.22   \n",
       "20           21.5         40       120.1               97            3.70   \n",
       "21           15.5         80       318.0              150            2.76   \n",
       "22           15.2         80       304.0              150            3.15   \n",
       "23           13.3         80       350.0              245            3.73   \n",
       "24           19.2         80       400.0              175            3.08   \n",
       "25           27.3         40        79.0               66            4.08   \n",
       "26           26.0         40       120.3               91            4.43   \n",
       "27           30.4         40        95.1              113            3.77   \n",
       "28           15.8         80       351.0              264            4.22   \n",
       "29           19.7         60       145.0              175            3.62   \n",
       "30           15.0         80       301.0              335            3.54   \n",
       "31           21.4         40       121.0              109            4.11   \n",
       "\n",
       "    BasketSize  ProfitPercust  OwnStore  OnlinePresence  Tenure  StoreSegment  \n",
       "0        2.620          16.46         0               1       4             4  \n",
       "1        2.875          17.02         0               1       4             4  \n",
       "2        2.320          18.61         1               1       4             1  \n",
       "3        3.215          19.44         1               0       3             1  \n",
       "4        3.440          17.02         0               0       3             2  \n",
       "5        3.460          20.22         1               0       3             1  \n",
       "6        3.570          15.84         0               0       3             4  \n",
       "7        3.190          20.00         1               0       4             2  \n",
       "8        3.150          22.90         1               0       4             2  \n",
       "9        3.440          18.30         1               0       4             4  \n",
       "10       3.440          18.90         1               0       4             4  \n",
       "11       4.070          17.40         0               0       3             3  \n",
       "12       3.730          17.60         0               0       3             3  \n",
       "13       3.780          18.00         0               0       3             3  \n",
       "14       5.250          17.98         0               0       3             4  \n",
       "15       5.424          17.82         0               0       3             4  \n",
       "16       5.345          17.42         0               0       3             4  \n",
       "17       2.200          19.47         1               1       4             1  \n",
       "18       1.615          18.52         1               1       4             2  \n",
       "19       1.835          19.90         1               1       4             1  \n",
       "20       2.465          20.01         1               0       3             1  \n",
       "21       3.520          16.87         0               0       3             2  \n",
       "22       3.435          17.30         0               0       3             2  \n",
       "23       3.840          15.41         0               0       3             4  \n",
       "24       3.845          17.05         0               0       3             2  \n",
       "25       1.935          18.90         1               1       4             1  \n",
       "26       2.140          16.70         0               1       5             2  \n",
       "27       1.513          16.90         1               1       5             2  \n",
       "28       3.170          14.50         0               1       5             4  \n",
       "29       2.770          15.50         0               1       5             4  \n",
       "30       3.570          14.60         0               1       5             4  \n",
       "31       2.780          18.60         1               1       4             2  "
      ]
     },
     "execution_count": 39,
     "metadata": {},
     "output_type": "execute_result"
    }
   ],
   "source": [
    "cont_vars = stores._get_numeric_data() \n",
    "cont_vars \n",
    "\n",
    "# ignoring object and Date columns, it gives numbers\n",
    "# not all numerics are continuous"
   ]
  },
  {
   "cell_type": "code",
   "execution_count": 46,
   "metadata": {},
   "outputs": [
    {
     "name": "stdout",
     "output_type": "stream",
     "text": [
      "['AcqCostPercust', 'BasketSize', 'OperatingCost', 'ProfitPercust', 'Staff_Cnt', 'Tenure', 'TotalSales', 'Total_Customers']\n"
     ]
    }
   ],
   "source": [
    "except_these_cols = ['OwnStore','OnlinePresence', 'StoreSegment']\n",
    "cont_var_list = list(cont_vars.columns.difference(except_these_cols))\n",
    "print(cont_var_list)  # printing list of only continous numeric vols"
   ]
  },
  {
   "cell_type": "code",
   "execution_count": 47,
   "metadata": {},
   "outputs": [
    {
     "data": {
      "text/plain": [
       "Index(['StoreCode', 'StoreName', 'StoreType', 'Location', 'OperatingCost',\n",
       "       'Staff_Cnt', 'TotalSales', 'Total_Customers', 'AcqCostPercust',\n",
       "       'BasketSize', 'ProfitPercust', 'OwnStore', 'OnlinePresence', 'Tenure',\n",
       "       'StoreSegment'],\n",
       "      dtype='object')"
      ]
     },
     "execution_count": 47,
     "metadata": {},
     "output_type": "execute_result"
    }
   ],
   "source": [
    "stores.columns"
   ]
  },
  {
   "cell_type": "markdown",
   "metadata": {},
   "source": [
    "### Date itself is not a categorical nor continuous, but the things that you extract from a date, they become continuous or categorical"
   ]
  },
  {
   "cell_type": "code",
   "execution_count": 49,
   "metadata": {},
   "outputs": [
    {
     "data": {
      "text/html": [
       "<div>\n",
       "<style scoped>\n",
       "    .dataframe tbody tr th:only-of-type {\n",
       "        vertical-align: middle;\n",
       "    }\n",
       "\n",
       "    .dataframe tbody tr th {\n",
       "        vertical-align: top;\n",
       "    }\n",
       "\n",
       "    .dataframe thead th {\n",
       "        text-align: right;\n",
       "    }\n",
       "</style>\n",
       "<table border=\"1\" class=\"dataframe\">\n",
       "  <thead>\n",
       "    <tr style=\"text-align: right;\">\n",
       "      <th></th>\n",
       "      <th>AcqCostPercust</th>\n",
       "      <th>BasketSize</th>\n",
       "      <th>OperatingCost</th>\n",
       "      <th>ProfitPercust</th>\n",
       "      <th>Staff_Cnt</th>\n",
       "      <th>Tenure</th>\n",
       "      <th>TotalSales</th>\n",
       "      <th>Total_Customers</th>\n",
       "    </tr>\n",
       "  </thead>\n",
       "  <tbody>\n",
       "    <tr>\n",
       "      <th>0</th>\n",
       "      <td>3.90</td>\n",
       "      <td>2.620</td>\n",
       "      <td>21.0</td>\n",
       "      <td>16.46</td>\n",
       "      <td>60</td>\n",
       "      <td>4</td>\n",
       "      <td>160.0</td>\n",
       "      <td>110</td>\n",
       "    </tr>\n",
       "    <tr>\n",
       "      <th>1</th>\n",
       "      <td>3.90</td>\n",
       "      <td>2.875</td>\n",
       "      <td>21.0</td>\n",
       "      <td>17.02</td>\n",
       "      <td>60</td>\n",
       "      <td>4</td>\n",
       "      <td>160.0</td>\n",
       "      <td>110</td>\n",
       "    </tr>\n",
       "    <tr>\n",
       "      <th>2</th>\n",
       "      <td>3.85</td>\n",
       "      <td>2.320</td>\n",
       "      <td>22.8</td>\n",
       "      <td>18.61</td>\n",
       "      <td>40</td>\n",
       "      <td>4</td>\n",
       "      <td>108.0</td>\n",
       "      <td>93</td>\n",
       "    </tr>\n",
       "    <tr>\n",
       "      <th>3</th>\n",
       "      <td>3.08</td>\n",
       "      <td>3.215</td>\n",
       "      <td>21.4</td>\n",
       "      <td>19.44</td>\n",
       "      <td>60</td>\n",
       "      <td>3</td>\n",
       "      <td>258.0</td>\n",
       "      <td>110</td>\n",
       "    </tr>\n",
       "    <tr>\n",
       "      <th>4</th>\n",
       "      <td>3.15</td>\n",
       "      <td>3.440</td>\n",
       "      <td>18.7</td>\n",
       "      <td>17.02</td>\n",
       "      <td>80</td>\n",
       "      <td>3</td>\n",
       "      <td>360.0</td>\n",
       "      <td>175</td>\n",
       "    </tr>\n",
       "    <tr>\n",
       "      <th>5</th>\n",
       "      <td>2.76</td>\n",
       "      <td>3.460</td>\n",
       "      <td>18.1</td>\n",
       "      <td>20.22</td>\n",
       "      <td>60</td>\n",
       "      <td>3</td>\n",
       "      <td>225.0</td>\n",
       "      <td>105</td>\n",
       "    </tr>\n",
       "    <tr>\n",
       "      <th>6</th>\n",
       "      <td>3.21</td>\n",
       "      <td>3.570</td>\n",
       "      <td>14.3</td>\n",
       "      <td>15.84</td>\n",
       "      <td>80</td>\n",
       "      <td>3</td>\n",
       "      <td>360.0</td>\n",
       "      <td>245</td>\n",
       "    </tr>\n",
       "    <tr>\n",
       "      <th>7</th>\n",
       "      <td>3.69</td>\n",
       "      <td>3.190</td>\n",
       "      <td>24.4</td>\n",
       "      <td>20.00</td>\n",
       "      <td>40</td>\n",
       "      <td>4</td>\n",
       "      <td>146.7</td>\n",
       "      <td>62</td>\n",
       "    </tr>\n",
       "    <tr>\n",
       "      <th>8</th>\n",
       "      <td>3.92</td>\n",
       "      <td>3.150</td>\n",
       "      <td>22.8</td>\n",
       "      <td>22.90</td>\n",
       "      <td>40</td>\n",
       "      <td>4</td>\n",
       "      <td>140.8</td>\n",
       "      <td>95</td>\n",
       "    </tr>\n",
       "    <tr>\n",
       "      <th>9</th>\n",
       "      <td>3.92</td>\n",
       "      <td>3.440</td>\n",
       "      <td>19.2</td>\n",
       "      <td>18.30</td>\n",
       "      <td>60</td>\n",
       "      <td>4</td>\n",
       "      <td>167.6</td>\n",
       "      <td>123</td>\n",
       "    </tr>\n",
       "    <tr>\n",
       "      <th>10</th>\n",
       "      <td>3.92</td>\n",
       "      <td>3.440</td>\n",
       "      <td>17.8</td>\n",
       "      <td>18.90</td>\n",
       "      <td>60</td>\n",
       "      <td>4</td>\n",
       "      <td>167.6</td>\n",
       "      <td>123</td>\n",
       "    </tr>\n",
       "    <tr>\n",
       "      <th>11</th>\n",
       "      <td>NaN</td>\n",
       "      <td>4.070</td>\n",
       "      <td>16.4</td>\n",
       "      <td>17.40</td>\n",
       "      <td>80</td>\n",
       "      <td>3</td>\n",
       "      <td>275.8</td>\n",
       "      <td>180</td>\n",
       "    </tr>\n",
       "    <tr>\n",
       "      <th>12</th>\n",
       "      <td>NaN</td>\n",
       "      <td>3.730</td>\n",
       "      <td>17.3</td>\n",
       "      <td>17.60</td>\n",
       "      <td>80</td>\n",
       "      <td>3</td>\n",
       "      <td>275.8</td>\n",
       "      <td>180</td>\n",
       "    </tr>\n",
       "    <tr>\n",
       "      <th>13</th>\n",
       "      <td>NaN</td>\n",
       "      <td>3.780</td>\n",
       "      <td>15.2</td>\n",
       "      <td>18.00</td>\n",
       "      <td>80</td>\n",
       "      <td>3</td>\n",
       "      <td>275.8</td>\n",
       "      <td>180</td>\n",
       "    </tr>\n",
       "    <tr>\n",
       "      <th>14</th>\n",
       "      <td>2.93</td>\n",
       "      <td>5.250</td>\n",
       "      <td>10.4</td>\n",
       "      <td>17.98</td>\n",
       "      <td>80</td>\n",
       "      <td>3</td>\n",
       "      <td>472.0</td>\n",
       "      <td>205</td>\n",
       "    </tr>\n",
       "    <tr>\n",
       "      <th>15</th>\n",
       "      <td>3.00</td>\n",
       "      <td>5.424</td>\n",
       "      <td>10.4</td>\n",
       "      <td>17.82</td>\n",
       "      <td>80</td>\n",
       "      <td>3</td>\n",
       "      <td>460.0</td>\n",
       "      <td>215</td>\n",
       "    </tr>\n",
       "    <tr>\n",
       "      <th>16</th>\n",
       "      <td>3.23</td>\n",
       "      <td>5.345</td>\n",
       "      <td>14.7</td>\n",
       "      <td>17.42</td>\n",
       "      <td>80</td>\n",
       "      <td>3</td>\n",
       "      <td>440.0</td>\n",
       "      <td>230</td>\n",
       "    </tr>\n",
       "    <tr>\n",
       "      <th>17</th>\n",
       "      <td>4.08</td>\n",
       "      <td>2.200</td>\n",
       "      <td>32.4</td>\n",
       "      <td>19.47</td>\n",
       "      <td>40</td>\n",
       "      <td>4</td>\n",
       "      <td>78.7</td>\n",
       "      <td>66</td>\n",
       "    </tr>\n",
       "    <tr>\n",
       "      <th>18</th>\n",
       "      <td>4.93</td>\n",
       "      <td>1.615</td>\n",
       "      <td>30.4</td>\n",
       "      <td>18.52</td>\n",
       "      <td>40</td>\n",
       "      <td>4</td>\n",
       "      <td>75.7</td>\n",
       "      <td>52</td>\n",
       "    </tr>\n",
       "    <tr>\n",
       "      <th>19</th>\n",
       "      <td>4.22</td>\n",
       "      <td>1.835</td>\n",
       "      <td>33.9</td>\n",
       "      <td>19.90</td>\n",
       "      <td>40</td>\n",
       "      <td>4</td>\n",
       "      <td>71.1</td>\n",
       "      <td>65</td>\n",
       "    </tr>\n",
       "    <tr>\n",
       "      <th>20</th>\n",
       "      <td>3.70</td>\n",
       "      <td>2.465</td>\n",
       "      <td>21.5</td>\n",
       "      <td>20.01</td>\n",
       "      <td>40</td>\n",
       "      <td>3</td>\n",
       "      <td>120.1</td>\n",
       "      <td>97</td>\n",
       "    </tr>\n",
       "    <tr>\n",
       "      <th>21</th>\n",
       "      <td>2.76</td>\n",
       "      <td>3.520</td>\n",
       "      <td>15.5</td>\n",
       "      <td>16.87</td>\n",
       "      <td>80</td>\n",
       "      <td>3</td>\n",
       "      <td>318.0</td>\n",
       "      <td>150</td>\n",
       "    </tr>\n",
       "    <tr>\n",
       "      <th>22</th>\n",
       "      <td>3.15</td>\n",
       "      <td>3.435</td>\n",
       "      <td>15.2</td>\n",
       "      <td>17.30</td>\n",
       "      <td>80</td>\n",
       "      <td>3</td>\n",
       "      <td>304.0</td>\n",
       "      <td>150</td>\n",
       "    </tr>\n",
       "    <tr>\n",
       "      <th>23</th>\n",
       "      <td>3.73</td>\n",
       "      <td>3.840</td>\n",
       "      <td>13.3</td>\n",
       "      <td>15.41</td>\n",
       "      <td>80</td>\n",
       "      <td>3</td>\n",
       "      <td>350.0</td>\n",
       "      <td>245</td>\n",
       "    </tr>\n",
       "    <tr>\n",
       "      <th>24</th>\n",
       "      <td>3.08</td>\n",
       "      <td>3.845</td>\n",
       "      <td>19.2</td>\n",
       "      <td>17.05</td>\n",
       "      <td>80</td>\n",
       "      <td>3</td>\n",
       "      <td>400.0</td>\n",
       "      <td>175</td>\n",
       "    </tr>\n",
       "    <tr>\n",
       "      <th>25</th>\n",
       "      <td>4.08</td>\n",
       "      <td>1.935</td>\n",
       "      <td>27.3</td>\n",
       "      <td>18.90</td>\n",
       "      <td>40</td>\n",
       "      <td>4</td>\n",
       "      <td>79.0</td>\n",
       "      <td>66</td>\n",
       "    </tr>\n",
       "    <tr>\n",
       "      <th>26</th>\n",
       "      <td>4.43</td>\n",
       "      <td>2.140</td>\n",
       "      <td>26.0</td>\n",
       "      <td>16.70</td>\n",
       "      <td>40</td>\n",
       "      <td>5</td>\n",
       "      <td>120.3</td>\n",
       "      <td>91</td>\n",
       "    </tr>\n",
       "    <tr>\n",
       "      <th>27</th>\n",
       "      <td>3.77</td>\n",
       "      <td>1.513</td>\n",
       "      <td>30.4</td>\n",
       "      <td>16.90</td>\n",
       "      <td>40</td>\n",
       "      <td>5</td>\n",
       "      <td>95.1</td>\n",
       "      <td>113</td>\n",
       "    </tr>\n",
       "    <tr>\n",
       "      <th>28</th>\n",
       "      <td>4.22</td>\n",
       "      <td>3.170</td>\n",
       "      <td>15.8</td>\n",
       "      <td>14.50</td>\n",
       "      <td>80</td>\n",
       "      <td>5</td>\n",
       "      <td>351.0</td>\n",
       "      <td>264</td>\n",
       "    </tr>\n",
       "    <tr>\n",
       "      <th>29</th>\n",
       "      <td>3.62</td>\n",
       "      <td>2.770</td>\n",
       "      <td>19.7</td>\n",
       "      <td>15.50</td>\n",
       "      <td>60</td>\n",
       "      <td>5</td>\n",
       "      <td>145.0</td>\n",
       "      <td>175</td>\n",
       "    </tr>\n",
       "    <tr>\n",
       "      <th>30</th>\n",
       "      <td>3.54</td>\n",
       "      <td>3.570</td>\n",
       "      <td>15.0</td>\n",
       "      <td>14.60</td>\n",
       "      <td>80</td>\n",
       "      <td>5</td>\n",
       "      <td>301.0</td>\n",
       "      <td>335</td>\n",
       "    </tr>\n",
       "    <tr>\n",
       "      <th>31</th>\n",
       "      <td>4.11</td>\n",
       "      <td>2.780</td>\n",
       "      <td>21.4</td>\n",
       "      <td>18.60</td>\n",
       "      <td>40</td>\n",
       "      <td>4</td>\n",
       "      <td>121.0</td>\n",
       "      <td>109</td>\n",
       "    </tr>\n",
       "  </tbody>\n",
       "</table>\n",
       "</div>"
      ],
      "text/plain": [
       "    AcqCostPercust  BasketSize  OperatingCost  ProfitPercust  Staff_Cnt  \\\n",
       "0             3.90       2.620           21.0          16.46         60   \n",
       "1             3.90       2.875           21.0          17.02         60   \n",
       "2             3.85       2.320           22.8          18.61         40   \n",
       "3             3.08       3.215           21.4          19.44         60   \n",
       "4             3.15       3.440           18.7          17.02         80   \n",
       "5             2.76       3.460           18.1          20.22         60   \n",
       "6             3.21       3.570           14.3          15.84         80   \n",
       "7             3.69       3.190           24.4          20.00         40   \n",
       "8             3.92       3.150           22.8          22.90         40   \n",
       "9             3.92       3.440           19.2          18.30         60   \n",
       "10            3.92       3.440           17.8          18.90         60   \n",
       "11             NaN       4.070           16.4          17.40         80   \n",
       "12             NaN       3.730           17.3          17.60         80   \n",
       "13             NaN       3.780           15.2          18.00         80   \n",
       "14            2.93       5.250           10.4          17.98         80   \n",
       "15            3.00       5.424           10.4          17.82         80   \n",
       "16            3.23       5.345           14.7          17.42         80   \n",
       "17            4.08       2.200           32.4          19.47         40   \n",
       "18            4.93       1.615           30.4          18.52         40   \n",
       "19            4.22       1.835           33.9          19.90         40   \n",
       "20            3.70       2.465           21.5          20.01         40   \n",
       "21            2.76       3.520           15.5          16.87         80   \n",
       "22            3.15       3.435           15.2          17.30         80   \n",
       "23            3.73       3.840           13.3          15.41         80   \n",
       "24            3.08       3.845           19.2          17.05         80   \n",
       "25            4.08       1.935           27.3          18.90         40   \n",
       "26            4.43       2.140           26.0          16.70         40   \n",
       "27            3.77       1.513           30.4          16.90         40   \n",
       "28            4.22       3.170           15.8          14.50         80   \n",
       "29            3.62       2.770           19.7          15.50         60   \n",
       "30            3.54       3.570           15.0          14.60         80   \n",
       "31            4.11       2.780           21.4          18.60         40   \n",
       "\n",
       "    Tenure  TotalSales  Total_Customers  \n",
       "0        4       160.0              110  \n",
       "1        4       160.0              110  \n",
       "2        4       108.0               93  \n",
       "3        3       258.0              110  \n",
       "4        3       360.0              175  \n",
       "5        3       225.0              105  \n",
       "6        3       360.0              245  \n",
       "7        4       146.7               62  \n",
       "8        4       140.8               95  \n",
       "9        4       167.6              123  \n",
       "10       4       167.6              123  \n",
       "11       3       275.8              180  \n",
       "12       3       275.8              180  \n",
       "13       3       275.8              180  \n",
       "14       3       472.0              205  \n",
       "15       3       460.0              215  \n",
       "16       3       440.0              230  \n",
       "17       4        78.7               66  \n",
       "18       4        75.7               52  \n",
       "19       4        71.1               65  \n",
       "20       3       120.1               97  \n",
       "21       3       318.0              150  \n",
       "22       3       304.0              150  \n",
       "23       3       350.0              245  \n",
       "24       3       400.0              175  \n",
       "25       4        79.0               66  \n",
       "26       5       120.3               91  \n",
       "27       5        95.1              113  \n",
       "28       5       351.0              264  \n",
       "29       5       145.0              175  \n",
       "30       5       301.0              335  \n",
       "31       4       121.0              109  "
      ]
     },
     "execution_count": 49,
     "metadata": {},
     "output_type": "execute_result"
    }
   ],
   "source": [
    "cont_stores = stores[cont_var_list]\n",
    "cont_stores # printing only continous numeric vols"
   ]
  },
  {
   "cell_type": "code",
   "execution_count": 55,
   "metadata": {},
   "outputs": [
    {
     "data": {
      "text/html": [
       "<div>\n",
       "<style scoped>\n",
       "    .dataframe tbody tr th:only-of-type {\n",
       "        vertical-align: middle;\n",
       "    }\n",
       "\n",
       "    .dataframe tbody tr th {\n",
       "        vertical-align: top;\n",
       "    }\n",
       "\n",
       "    .dataframe thead th {\n",
       "        text-align: right;\n",
       "    }\n",
       "</style>\n",
       "<table border=\"1\" class=\"dataframe\">\n",
       "  <thead>\n",
       "    <tr style=\"text-align: right;\">\n",
       "      <th></th>\n",
       "      <th>AcqCostPercust</th>\n",
       "      <th>BasketSize</th>\n",
       "      <th>OperatingCost</th>\n",
       "      <th>ProfitPercust</th>\n",
       "      <th>Staff_Cnt</th>\n",
       "      <th>Tenure</th>\n",
       "      <th>TotalSales</th>\n",
       "      <th>Total_Customers</th>\n",
       "    </tr>\n",
       "  </thead>\n",
       "  <tbody>\n",
       "    <tr>\n",
       "      <th>counts</th>\n",
       "      <td>29.000000</td>\n",
       "      <td>32.000000</td>\n",
       "      <td>32.000000</td>\n",
       "      <td>32.000000</td>\n",
       "      <td>32.000000</td>\n",
       "      <td>32.000000</td>\n",
       "      <td>32.000000</td>\n",
       "      <td>32.000000</td>\n",
       "    </tr>\n",
       "    <tr>\n",
       "      <th>nmiss</th>\n",
       "      <td>3.000000</td>\n",
       "      <td>0.000000</td>\n",
       "      <td>0.000000</td>\n",
       "      <td>0.000000</td>\n",
       "      <td>0.000000</td>\n",
       "      <td>0.000000</td>\n",
       "      <td>0.000000</td>\n",
       "      <td>0.000000</td>\n",
       "    </tr>\n",
       "    <tr>\n",
       "      <th>SUM</th>\n",
       "      <td>105.880000</td>\n",
       "      <td>102.952000</td>\n",
       "      <td>642.900000</td>\n",
       "      <td>571.160000</td>\n",
       "      <td>1980.000000</td>\n",
       "      <td>118.000000</td>\n",
       "      <td>7383.100000</td>\n",
       "      <td>4694.000000</td>\n",
       "    </tr>\n",
       "    <tr>\n",
       "      <th>AVG</th>\n",
       "      <td>3.651034</td>\n",
       "      <td>3.217250</td>\n",
       "      <td>20.090625</td>\n",
       "      <td>17.848750</td>\n",
       "      <td>61.875000</td>\n",
       "      <td>3.687500</td>\n",
       "      <td>230.721875</td>\n",
       "      <td>146.687500</td>\n",
       "    </tr>\n",
       "    <tr>\n",
       "      <th>STD_DEV</th>\n",
       "      <td>0.532664</td>\n",
       "      <td>0.978457</td>\n",
       "      <td>6.026948</td>\n",
       "      <td>1.786943</td>\n",
       "      <td>17.859216</td>\n",
       "      <td>0.737804</td>\n",
       "      <td>123.938694</td>\n",
       "      <td>68.562868</td>\n",
       "    </tr>\n",
       "    <tr>\n",
       "      <th>0%</th>\n",
       "      <td>2.760000</td>\n",
       "      <td>1.513000</td>\n",
       "      <td>10.400000</td>\n",
       "      <td>14.500000</td>\n",
       "      <td>40.000000</td>\n",
       "      <td>3.000000</td>\n",
       "      <td>71.100000</td>\n",
       "      <td>52.000000</td>\n",
       "    </tr>\n",
       "    <tr>\n",
       "      <th>1%</th>\n",
       "      <td>2.760000</td>\n",
       "      <td>1.544620</td>\n",
       "      <td>10.400000</td>\n",
       "      <td>14.531000</td>\n",
       "      <td>40.000000</td>\n",
       "      <td>3.000000</td>\n",
       "      <td>72.526000</td>\n",
       "      <td>55.100000</td>\n",
       "    </tr>\n",
       "    <tr>\n",
       "      <th>5%</th>\n",
       "      <td>2.828000</td>\n",
       "      <td>1.736000</td>\n",
       "      <td>11.995000</td>\n",
       "      <td>15.045500</td>\n",
       "      <td>40.000000</td>\n",
       "      <td>3.000000</td>\n",
       "      <td>77.350000</td>\n",
       "      <td>63.650000</td>\n",
       "    </tr>\n",
       "    <tr>\n",
       "      <th>10%</th>\n",
       "      <td>2.986000</td>\n",
       "      <td>1.955500</td>\n",
       "      <td>14.340000</td>\n",
       "      <td>15.534000</td>\n",
       "      <td>40.000000</td>\n",
       "      <td>3.000000</td>\n",
       "      <td>80.610000</td>\n",
       "      <td>66.000000</td>\n",
       "    </tr>\n",
       "    <tr>\n",
       "      <th>Q1</th>\n",
       "      <td>3.150000</td>\n",
       "      <td>2.581250</td>\n",
       "      <td>15.425000</td>\n",
       "      <td>16.892500</td>\n",
       "      <td>40.000000</td>\n",
       "      <td>3.000000</td>\n",
       "      <td>120.825000</td>\n",
       "      <td>96.500000</td>\n",
       "    </tr>\n",
       "    <tr>\n",
       "      <th>median</th>\n",
       "      <td>3.730000</td>\n",
       "      <td>3.325000</td>\n",
       "      <td>19.200000</td>\n",
       "      <td>17.710000</td>\n",
       "      <td>60.000000</td>\n",
       "      <td>4.000000</td>\n",
       "      <td>196.300000</td>\n",
       "      <td>123.000000</td>\n",
       "    </tr>\n",
       "    <tr>\n",
       "      <th>Q3</th>\n",
       "      <td>3.920000</td>\n",
       "      <td>3.610000</td>\n",
       "      <td>22.800000</td>\n",
       "      <td>18.900000</td>\n",
       "      <td>80.000000</td>\n",
       "      <td>4.000000</td>\n",
       "      <td>326.000000</td>\n",
       "      <td>180.000000</td>\n",
       "    </tr>\n",
       "    <tr>\n",
       "      <th>90%</th>\n",
       "      <td>4.220000</td>\n",
       "      <td>4.047500</td>\n",
       "      <td>30.090000</td>\n",
       "      <td>19.990000</td>\n",
       "      <td>80.000000</td>\n",
       "      <td>5.000000</td>\n",
       "      <td>396.000000</td>\n",
       "      <td>243.500000</td>\n",
       "    </tr>\n",
       "    <tr>\n",
       "      <th>95%</th>\n",
       "      <td>4.346000</td>\n",
       "      <td>5.292750</td>\n",
       "      <td>31.300000</td>\n",
       "      <td>20.104500</td>\n",
       "      <td>80.000000</td>\n",
       "      <td>5.000000</td>\n",
       "      <td>449.000000</td>\n",
       "      <td>253.550000</td>\n",
       "    </tr>\n",
       "    <tr>\n",
       "      <th>99%</th>\n",
       "      <td>4.790000</td>\n",
       "      <td>5.399510</td>\n",
       "      <td>33.435000</td>\n",
       "      <td>22.069200</td>\n",
       "      <td>80.000000</td>\n",
       "      <td>5.000000</td>\n",
       "      <td>468.280000</td>\n",
       "      <td>312.990000</td>\n",
       "    </tr>\n",
       "    <tr>\n",
       "      <th>100%</th>\n",
       "      <td>4.930000</td>\n",
       "      <td>5.424000</td>\n",
       "      <td>33.900000</td>\n",
       "      <td>22.900000</td>\n",
       "      <td>80.000000</td>\n",
       "      <td>5.000000</td>\n",
       "      <td>472.000000</td>\n",
       "      <td>335.000000</td>\n",
       "    </tr>\n",
       "  </tbody>\n",
       "</table>\n",
       "</div>"
      ],
      "text/plain": [
       "         AcqCostPercust  BasketSize  OperatingCost  ProfitPercust  \\\n",
       "counts        29.000000   32.000000      32.000000      32.000000   \n",
       "nmiss          3.000000    0.000000       0.000000       0.000000   \n",
       "SUM          105.880000  102.952000     642.900000     571.160000   \n",
       "AVG            3.651034    3.217250      20.090625      17.848750   \n",
       "STD_DEV        0.532664    0.978457       6.026948       1.786943   \n",
       "0%             2.760000    1.513000      10.400000      14.500000   \n",
       "1%             2.760000    1.544620      10.400000      14.531000   \n",
       "5%             2.828000    1.736000      11.995000      15.045500   \n",
       "10%            2.986000    1.955500      14.340000      15.534000   \n",
       "Q1             3.150000    2.581250      15.425000      16.892500   \n",
       "median         3.730000    3.325000      19.200000      17.710000   \n",
       "Q3             3.920000    3.610000      22.800000      18.900000   \n",
       "90%            4.220000    4.047500      30.090000      19.990000   \n",
       "95%            4.346000    5.292750      31.300000      20.104500   \n",
       "99%            4.790000    5.399510      33.435000      22.069200   \n",
       "100%           4.930000    5.424000      33.900000      22.900000   \n",
       "\n",
       "           Staff_Cnt      Tenure   TotalSales  Total_Customers  \n",
       "counts     32.000000   32.000000    32.000000        32.000000  \n",
       "nmiss       0.000000    0.000000     0.000000         0.000000  \n",
       "SUM      1980.000000  118.000000  7383.100000      4694.000000  \n",
       "AVG        61.875000    3.687500   230.721875       146.687500  \n",
       "STD_DEV    17.859216    0.737804   123.938694        68.562868  \n",
       "0%         40.000000    3.000000    71.100000        52.000000  \n",
       "1%         40.000000    3.000000    72.526000        55.100000  \n",
       "5%         40.000000    3.000000    77.350000        63.650000  \n",
       "10%        40.000000    3.000000    80.610000        66.000000  \n",
       "Q1         40.000000    3.000000   120.825000        96.500000  \n",
       "median     60.000000    4.000000   196.300000       123.000000  \n",
       "Q3         80.000000    4.000000   326.000000       180.000000  \n",
       "90%        80.000000    5.000000   396.000000       243.500000  \n",
       "95%        80.000000    5.000000   449.000000       253.550000  \n",
       "99%        80.000000    5.000000   468.280000       312.990000  \n",
       "100%       80.000000    5.000000   472.000000       335.000000  "
      ]
     },
     "execution_count": 55,
     "metadata": {},
     "output_type": "execute_result"
    }
   ],
   "source": [
    "summary_report = cont_stores.apply(cont_univariate)\n",
    "summary_report"
   ]
  },
  {
   "cell_type": "code",
   "execution_count": 58,
   "metadata": {},
   "outputs": [
    {
     "data": {
      "text/html": [
       "<div>\n",
       "<style scoped>\n",
       "    .dataframe tbody tr th:only-of-type {\n",
       "        vertical-align: middle;\n",
       "    }\n",
       "\n",
       "    .dataframe tbody tr th {\n",
       "        vertical-align: top;\n",
       "    }\n",
       "\n",
       "    .dataframe thead th {\n",
       "        text-align: right;\n",
       "    }\n",
       "</style>\n",
       "<table border=\"1\" class=\"dataframe\">\n",
       "  <thead>\n",
       "    <tr style=\"text-align: right;\">\n",
       "      <th></th>\n",
       "      <th>counts</th>\n",
       "      <th>nmiss</th>\n",
       "      <th>SUM</th>\n",
       "      <th>AVG</th>\n",
       "      <th>STD_DEV</th>\n",
       "      <th>0%</th>\n",
       "      <th>1%</th>\n",
       "      <th>5%</th>\n",
       "      <th>10%</th>\n",
       "      <th>Q1</th>\n",
       "      <th>median</th>\n",
       "      <th>Q3</th>\n",
       "      <th>90%</th>\n",
       "      <th>95%</th>\n",
       "      <th>99%</th>\n",
       "      <th>100%</th>\n",
       "    </tr>\n",
       "  </thead>\n",
       "  <tbody>\n",
       "    <tr>\n",
       "      <th>AcqCostPercust</th>\n",
       "      <td>29.0</td>\n",
       "      <td>3.0</td>\n",
       "      <td>105.880</td>\n",
       "      <td>3.651034</td>\n",
       "      <td>0.532664</td>\n",
       "      <td>2.760</td>\n",
       "      <td>2.76000</td>\n",
       "      <td>2.8280</td>\n",
       "      <td>2.9860</td>\n",
       "      <td>3.15000</td>\n",
       "      <td>3.730</td>\n",
       "      <td>3.92</td>\n",
       "      <td>4.2200</td>\n",
       "      <td>4.34600</td>\n",
       "      <td>4.79000</td>\n",
       "      <td>4.930</td>\n",
       "    </tr>\n",
       "    <tr>\n",
       "      <th>BasketSize</th>\n",
       "      <td>32.0</td>\n",
       "      <td>0.0</td>\n",
       "      <td>102.952</td>\n",
       "      <td>3.217250</td>\n",
       "      <td>0.978457</td>\n",
       "      <td>1.513</td>\n",
       "      <td>1.54462</td>\n",
       "      <td>1.7360</td>\n",
       "      <td>1.9555</td>\n",
       "      <td>2.58125</td>\n",
       "      <td>3.325</td>\n",
       "      <td>3.61</td>\n",
       "      <td>4.0475</td>\n",
       "      <td>5.29275</td>\n",
       "      <td>5.39951</td>\n",
       "      <td>5.424</td>\n",
       "    </tr>\n",
       "    <tr>\n",
       "      <th>OperatingCost</th>\n",
       "      <td>32.0</td>\n",
       "      <td>0.0</td>\n",
       "      <td>642.900</td>\n",
       "      <td>20.090625</td>\n",
       "      <td>6.026948</td>\n",
       "      <td>10.400</td>\n",
       "      <td>10.40000</td>\n",
       "      <td>11.9950</td>\n",
       "      <td>14.3400</td>\n",
       "      <td>15.42500</td>\n",
       "      <td>19.200</td>\n",
       "      <td>22.80</td>\n",
       "      <td>30.0900</td>\n",
       "      <td>31.30000</td>\n",
       "      <td>33.43500</td>\n",
       "      <td>33.900</td>\n",
       "    </tr>\n",
       "    <tr>\n",
       "      <th>ProfitPercust</th>\n",
       "      <td>32.0</td>\n",
       "      <td>0.0</td>\n",
       "      <td>571.160</td>\n",
       "      <td>17.848750</td>\n",
       "      <td>1.786943</td>\n",
       "      <td>14.500</td>\n",
       "      <td>14.53100</td>\n",
       "      <td>15.0455</td>\n",
       "      <td>15.5340</td>\n",
       "      <td>16.89250</td>\n",
       "      <td>17.710</td>\n",
       "      <td>18.90</td>\n",
       "      <td>19.9900</td>\n",
       "      <td>20.10450</td>\n",
       "      <td>22.06920</td>\n",
       "      <td>22.900</td>\n",
       "    </tr>\n",
       "    <tr>\n",
       "      <th>Staff_Cnt</th>\n",
       "      <td>32.0</td>\n",
       "      <td>0.0</td>\n",
       "      <td>1980.000</td>\n",
       "      <td>61.875000</td>\n",
       "      <td>17.859216</td>\n",
       "      <td>40.000</td>\n",
       "      <td>40.00000</td>\n",
       "      <td>40.0000</td>\n",
       "      <td>40.0000</td>\n",
       "      <td>40.00000</td>\n",
       "      <td>60.000</td>\n",
       "      <td>80.00</td>\n",
       "      <td>80.0000</td>\n",
       "      <td>80.00000</td>\n",
       "      <td>80.00000</td>\n",
       "      <td>80.000</td>\n",
       "    </tr>\n",
       "    <tr>\n",
       "      <th>Tenure</th>\n",
       "      <td>32.0</td>\n",
       "      <td>0.0</td>\n",
       "      <td>118.000</td>\n",
       "      <td>3.687500</td>\n",
       "      <td>0.737804</td>\n",
       "      <td>3.000</td>\n",
       "      <td>3.00000</td>\n",
       "      <td>3.0000</td>\n",
       "      <td>3.0000</td>\n",
       "      <td>3.00000</td>\n",
       "      <td>4.000</td>\n",
       "      <td>4.00</td>\n",
       "      <td>5.0000</td>\n",
       "      <td>5.00000</td>\n",
       "      <td>5.00000</td>\n",
       "      <td>5.000</td>\n",
       "    </tr>\n",
       "    <tr>\n",
       "      <th>TotalSales</th>\n",
       "      <td>32.0</td>\n",
       "      <td>0.0</td>\n",
       "      <td>7383.100</td>\n",
       "      <td>230.721875</td>\n",
       "      <td>123.938694</td>\n",
       "      <td>71.100</td>\n",
       "      <td>72.52600</td>\n",
       "      <td>77.3500</td>\n",
       "      <td>80.6100</td>\n",
       "      <td>120.82500</td>\n",
       "      <td>196.300</td>\n",
       "      <td>326.00</td>\n",
       "      <td>396.0000</td>\n",
       "      <td>449.00000</td>\n",
       "      <td>468.28000</td>\n",
       "      <td>472.000</td>\n",
       "    </tr>\n",
       "    <tr>\n",
       "      <th>Total_Customers</th>\n",
       "      <td>32.0</td>\n",
       "      <td>0.0</td>\n",
       "      <td>4694.000</td>\n",
       "      <td>146.687500</td>\n",
       "      <td>68.562868</td>\n",
       "      <td>52.000</td>\n",
       "      <td>55.10000</td>\n",
       "      <td>63.6500</td>\n",
       "      <td>66.0000</td>\n",
       "      <td>96.50000</td>\n",
       "      <td>123.000</td>\n",
       "      <td>180.00</td>\n",
       "      <td>243.5000</td>\n",
       "      <td>253.55000</td>\n",
       "      <td>312.99000</td>\n",
       "      <td>335.000</td>\n",
       "    </tr>\n",
       "  </tbody>\n",
       "</table>\n",
       "</div>"
      ],
      "text/plain": [
       "                 counts  nmiss       SUM         AVG     STD_DEV      0%  \\\n",
       "AcqCostPercust     29.0    3.0   105.880    3.651034    0.532664   2.760   \n",
       "BasketSize         32.0    0.0   102.952    3.217250    0.978457   1.513   \n",
       "OperatingCost      32.0    0.0   642.900   20.090625    6.026948  10.400   \n",
       "ProfitPercust      32.0    0.0   571.160   17.848750    1.786943  14.500   \n",
       "Staff_Cnt          32.0    0.0  1980.000   61.875000   17.859216  40.000   \n",
       "Tenure             32.0    0.0   118.000    3.687500    0.737804   3.000   \n",
       "TotalSales         32.0    0.0  7383.100  230.721875  123.938694  71.100   \n",
       "Total_Customers    32.0    0.0  4694.000  146.687500   68.562868  52.000   \n",
       "\n",
       "                       1%       5%      10%         Q1   median      Q3  \\\n",
       "AcqCostPercust    2.76000   2.8280   2.9860    3.15000    3.730    3.92   \n",
       "BasketSize        1.54462   1.7360   1.9555    2.58125    3.325    3.61   \n",
       "OperatingCost    10.40000  11.9950  14.3400   15.42500   19.200   22.80   \n",
       "ProfitPercust    14.53100  15.0455  15.5340   16.89250   17.710   18.90   \n",
       "Staff_Cnt        40.00000  40.0000  40.0000   40.00000   60.000   80.00   \n",
       "Tenure            3.00000   3.0000   3.0000    3.00000    4.000    4.00   \n",
       "TotalSales       72.52600  77.3500  80.6100  120.82500  196.300  326.00   \n",
       "Total_Customers  55.10000  63.6500  66.0000   96.50000  123.000  180.00   \n",
       "\n",
       "                      90%        95%        99%     100%  \n",
       "AcqCostPercust     4.2200    4.34600    4.79000    4.930  \n",
       "BasketSize         4.0475    5.29275    5.39951    5.424  \n",
       "OperatingCost     30.0900   31.30000   33.43500   33.900  \n",
       "ProfitPercust     19.9900   20.10450   22.06920   22.900  \n",
       "Staff_Cnt         80.0000   80.00000   80.00000   80.000  \n",
       "Tenure             5.0000    5.00000    5.00000    5.000  \n",
       "TotalSales       396.0000  449.00000  468.28000  472.000  \n",
       "Total_Customers  243.5000  253.55000  312.99000  335.000  "
      ]
     },
     "execution_count": 58,
     "metadata": {},
     "output_type": "execute_result"
    }
   ],
   "source": [
    "summary_report = cont_stores.apply(cont_univariate).T    #.T means transpose\n",
    "summary_report"
   ]
  },
  {
   "cell_type": "code",
   "execution_count": 59,
   "metadata": {},
   "outputs": [
    {
     "data": {
      "text/plain": [
       "AcqCostPercust     29.0\n",
       "BasketSize         32.0\n",
       "OperatingCost      32.0\n",
       "ProfitPercust      32.0\n",
       "Staff_Cnt          32.0\n",
       "Tenure             32.0\n",
       "TotalSales         32.0\n",
       "Total_Customers    32.0\n",
       "Name: counts, dtype: float64"
      ]
     },
     "execution_count": 59,
     "metadata": {},
     "output_type": "execute_result"
    }
   ],
   "source": [
    "summary_report.counts #extracting becomes easy due to transpose"
   ]
  },
  {
   "cell_type": "markdown",
   "metadata": {},
   "source": [
    "## lambda functions\n",
    "\n",
    "- lambda functions : anon functions\n",
    "- used for functions where there is single line of code\n",
    "> `lambda input:return`\n",
    "- E.g. `lambda x,y:x+y`\n",
    "- any function with single line of code, can be written in form of lambda"
   ]
  },
  {
   "cell_type": "code",
   "execution_count": 60,
   "metadata": {},
   "outputs": [],
   "source": [
    "def square(x):\n",
    "    return x**2\n",
    "\n",
    "def power(x,p=1):\n",
    "    return x**p"
   ]
  },
  {
   "cell_type": "code",
   "execution_count": 61,
   "metadata": {},
   "outputs": [
    {
     "data": {
      "text/html": [
       "<div>\n",
       "<style scoped>\n",
       "    .dataframe tbody tr th:only-of-type {\n",
       "        vertical-align: middle;\n",
       "    }\n",
       "\n",
       "    .dataframe tbody tr th {\n",
       "        vertical-align: top;\n",
       "    }\n",
       "\n",
       "    .dataframe thead th {\n",
       "        text-align: right;\n",
       "    }\n",
       "</style>\n",
       "<table border=\"1\" class=\"dataframe\">\n",
       "  <thead>\n",
       "    <tr style=\"text-align: right;\">\n",
       "      <th></th>\n",
       "      <th>col1</th>\n",
       "      <th>col2</th>\n",
       "      <th>col3</th>\n",
       "    </tr>\n",
       "  </thead>\n",
       "  <tbody>\n",
       "    <tr>\n",
       "      <th>0</th>\n",
       "      <td>100</td>\n",
       "      <td>16</td>\n",
       "      <td>25</td>\n",
       "    </tr>\n",
       "    <tr>\n",
       "      <th>1</th>\n",
       "      <td>9</td>\n",
       "      <td>1024</td>\n",
       "      <td>529</td>\n",
       "    </tr>\n",
       "    <tr>\n",
       "      <th>2</th>\n",
       "      <td>3136</td>\n",
       "      <td>36</td>\n",
       "      <td>25</td>\n",
       "    </tr>\n",
       "    <tr>\n",
       "      <th>3</th>\n",
       "      <td>4</td>\n",
       "      <td>4</td>\n",
       "      <td>16</td>\n",
       "    </tr>\n",
       "    <tr>\n",
       "      <th>4</th>\n",
       "      <td>100</td>\n",
       "      <td>400</td>\n",
       "      <td>36</td>\n",
       "    </tr>\n",
       "  </tbody>\n",
       "</table>\n",
       "</div>"
      ],
      "text/plain": [
       "   col1  col2  col3\n",
       "0   100    16    25\n",
       "1     9  1024   529\n",
       "2  3136    36    25\n",
       "3     4     4    16\n",
       "4   100   400    36"
      ]
     },
     "execution_count": 61,
     "metadata": {},
     "output_type": "execute_result"
    }
   ],
   "source": [
    "sample_data.apply(square)"
   ]
  },
  {
   "cell_type": "code",
   "execution_count": 62,
   "metadata": {},
   "outputs": [
    {
     "data": {
      "text/html": [
       "<div>\n",
       "<style scoped>\n",
       "    .dataframe tbody tr th:only-of-type {\n",
       "        vertical-align: middle;\n",
       "    }\n",
       "\n",
       "    .dataframe tbody tr th {\n",
       "        vertical-align: top;\n",
       "    }\n",
       "\n",
       "    .dataframe thead th {\n",
       "        text-align: right;\n",
       "    }\n",
       "</style>\n",
       "<table border=\"1\" class=\"dataframe\">\n",
       "  <thead>\n",
       "    <tr style=\"text-align: right;\">\n",
       "      <th></th>\n",
       "      <th>col1</th>\n",
       "      <th>col2</th>\n",
       "      <th>col3</th>\n",
       "    </tr>\n",
       "  </thead>\n",
       "  <tbody>\n",
       "    <tr>\n",
       "      <th>0</th>\n",
       "      <td>100</td>\n",
       "      <td>16</td>\n",
       "      <td>25</td>\n",
       "    </tr>\n",
       "    <tr>\n",
       "      <th>1</th>\n",
       "      <td>9</td>\n",
       "      <td>1024</td>\n",
       "      <td>529</td>\n",
       "    </tr>\n",
       "    <tr>\n",
       "      <th>2</th>\n",
       "      <td>3136</td>\n",
       "      <td>36</td>\n",
       "      <td>25</td>\n",
       "    </tr>\n",
       "    <tr>\n",
       "      <th>3</th>\n",
       "      <td>4</td>\n",
       "      <td>4</td>\n",
       "      <td>16</td>\n",
       "    </tr>\n",
       "    <tr>\n",
       "      <th>4</th>\n",
       "      <td>100</td>\n",
       "      <td>400</td>\n",
       "      <td>36</td>\n",
       "    </tr>\n",
       "  </tbody>\n",
       "</table>\n",
       "</div>"
      ],
      "text/plain": [
       "   col1  col2  col3\n",
       "0   100    16    25\n",
       "1     9  1024   529\n",
       "2  3136    36    25\n",
       "3     4     4    16\n",
       "4   100   400    36"
      ]
     },
     "execution_count": 62,
     "metadata": {},
     "output_type": "execute_result"
    }
   ],
   "source": [
    "# instad of creating a function called square, without creating it we can use it as \n",
    "# lambda\n",
    "\n",
    "sample_data.apply(lambda x:x**2)"
   ]
  },
  {
   "cell_type": "code",
   "execution_count": null,
   "metadata": {},
   "outputs": [],
   "source": []
  },
  {
   "cell_type": "code",
   "execution_count": null,
   "metadata": {},
   "outputs": [],
   "source": []
  },
  {
   "cell_type": "code",
   "execution_count": 46,
   "metadata": {},
   "outputs": [
    {
     "data": {
      "text/plain": [
       "Apparel         12\n",
       "Super Market    12\n",
       "Electronincs     8\n",
       "Name: StoreType, dtype: int64"
      ]
     },
     "execution_count": 46,
     "metadata": {},
     "output_type": "execute_result"
    }
   ],
   "source": [
    "stores.StoreType.value_counts()"
   ]
  },
  {
   "cell_type": "code",
   "execution_count": 47,
   "metadata": {},
   "outputs": [
    {
     "data": {
      "text/plain": [
       "4    12\n",
       "2    10\n",
       "1     7\n",
       "3     3\n",
       "Name: StoreSegment, dtype: int64"
      ]
     },
     "execution_count": 47,
     "metadata": {},
     "output_type": "execute_result"
    }
   ],
   "source": [
    "stores.StoreSegment.value_counts()"
   ]
  },
  {
   "cell_type": "raw",
   "metadata": {},
   "source": [
    "\n",
    "StoreType      StoreSegment       freq\n",
    "---------      ------------      --------\n",
    "Apparel            1        \n",
    "                   2\n",
    "                   3\n",
    "                   4\n",
    "Electronincs       1\n",
    "                   2\n",
    "                   3\n",
    "                   4\n",
    "Super Market       1\n",
    "                   2\n",
    "                   3\n",
    "                   4\n",
    "                   \n",
    "            \n",
    "               1     2     3     4\n",
    "Apparel       \n",
    "Electronincs\n",
    "Super Market"
   ]
  },
  {
   "cell_type": "code",
   "execution_count": 50,
   "metadata": {},
   "outputs": [
    {
     "data": {
      "text/html": [
       "<div>\n",
       "<style scoped>\n",
       "    .dataframe tbody tr th:only-of-type {\n",
       "        vertical-align: middle;\n",
       "    }\n",
       "\n",
       "    .dataframe tbody tr th {\n",
       "        vertical-align: top;\n",
       "    }\n",
       "\n",
       "    .dataframe thead th {\n",
       "        text-align: right;\n",
       "    }\n",
       "</style>\n",
       "<table border=\"1\" class=\"dataframe\">\n",
       "  <thead>\n",
       "    <tr style=\"text-align: right;\">\n",
       "      <th></th>\n",
       "      <th></th>\n",
       "      <th>StoreType</th>\n",
       "    </tr>\n",
       "    <tr>\n",
       "      <th>StoreType</th>\n",
       "      <th>StoreSegment</th>\n",
       "      <th></th>\n",
       "    </tr>\n",
       "  </thead>\n",
       "  <tbody>\n",
       "    <tr>\n",
       "      <th rowspan=\"4\" valign=\"top\">Apparel</th>\n",
       "      <th>1</th>\n",
       "      <td>3</td>\n",
       "    </tr>\n",
       "    <tr>\n",
       "      <th>2</th>\n",
       "      <td>2</td>\n",
       "    </tr>\n",
       "    <tr>\n",
       "      <th>3</th>\n",
       "      <td>1</td>\n",
       "    </tr>\n",
       "    <tr>\n",
       "      <th>4</th>\n",
       "      <td>6</td>\n",
       "    </tr>\n",
       "    <tr>\n",
       "      <th rowspan=\"2\" valign=\"top\">Electronincs</th>\n",
       "      <th>2</th>\n",
       "      <td>4</td>\n",
       "    </tr>\n",
       "    <tr>\n",
       "      <th>4</th>\n",
       "      <td>4</td>\n",
       "    </tr>\n",
       "    <tr>\n",
       "      <th rowspan=\"4\" valign=\"top\">Super Market</th>\n",
       "      <th>1</th>\n",
       "      <td>4</td>\n",
       "    </tr>\n",
       "    <tr>\n",
       "      <th>2</th>\n",
       "      <td>4</td>\n",
       "    </tr>\n",
       "    <tr>\n",
       "      <th>3</th>\n",
       "      <td>2</td>\n",
       "    </tr>\n",
       "    <tr>\n",
       "      <th>4</th>\n",
       "      <td>2</td>\n",
       "    </tr>\n",
       "  </tbody>\n",
       "</table>\n",
       "</div>"
      ],
      "text/plain": [
       "                           StoreType\n",
       "StoreType    StoreSegment           \n",
       "Apparel      1                     3\n",
       "             2                     2\n",
       "             3                     1\n",
       "             4                     6\n",
       "Electronincs 2                     4\n",
       "             4                     4\n",
       "Super Market 1                     4\n",
       "             2                     4\n",
       "             3                     2\n",
       "             4                     2"
      ]
     },
     "execution_count": 50,
     "metadata": {},
     "output_type": "execute_result"
    }
   ],
   "source": [
    "stores.groupby(by=[\"StoreType\",\"StoreSegment\"])[[\"StoreType\"]].count()"
   ]
  },
  {
   "cell_type": "code",
   "execution_count": 57,
   "metadata": {},
   "outputs": [
    {
     "data": {
      "text/html": [
       "<div>\n",
       "<style scoped>\n",
       "    .dataframe tbody tr th:only-of-type {\n",
       "        vertical-align: middle;\n",
       "    }\n",
       "\n",
       "    .dataframe tbody tr th {\n",
       "        vertical-align: top;\n",
       "    }\n",
       "\n",
       "    .dataframe thead th {\n",
       "        text-align: right;\n",
       "    }\n",
       "</style>\n",
       "<table border=\"1\" class=\"dataframe\">\n",
       "  <thead>\n",
       "    <tr style=\"text-align: right;\">\n",
       "      <th>StoreSegment</th>\n",
       "      <th>1</th>\n",
       "      <th>2</th>\n",
       "      <th>3</th>\n",
       "      <th>4</th>\n",
       "    </tr>\n",
       "    <tr>\n",
       "      <th>StoreType</th>\n",
       "      <th></th>\n",
       "      <th></th>\n",
       "      <th></th>\n",
       "      <th></th>\n",
       "    </tr>\n",
       "  </thead>\n",
       "  <tbody>\n",
       "    <tr>\n",
       "      <th>Apparel</th>\n",
       "      <td>3</td>\n",
       "      <td>2</td>\n",
       "      <td>1</td>\n",
       "      <td>6</td>\n",
       "    </tr>\n",
       "    <tr>\n",
       "      <th>Electronincs</th>\n",
       "      <td>0</td>\n",
       "      <td>4</td>\n",
       "      <td>0</td>\n",
       "      <td>4</td>\n",
       "    </tr>\n",
       "    <tr>\n",
       "      <th>Super Market</th>\n",
       "      <td>4</td>\n",
       "      <td>4</td>\n",
       "      <td>2</td>\n",
       "      <td>2</td>\n",
       "    </tr>\n",
       "  </tbody>\n",
       "</table>\n",
       "</div>"
      ],
      "text/plain": [
       "StoreSegment  1  2  3  4\n",
       "StoreType               \n",
       "Apparel       3  2  1  6\n",
       "Electronincs  0  4  0  4\n",
       "Super Market  4  4  2  2"
      ]
     },
     "execution_count": 57,
     "metadata": {},
     "output_type": "execute_result"
    }
   ],
   "source": [
    "pd.crosstab(stores.StoreType, stores.StoreSegment)"
   ]
  },
  {
   "cell_type": "code",
   "execution_count": null,
   "metadata": {},
   "outputs": [],
   "source": []
  },
  {
   "cell_type": "code",
   "execution_count": null,
   "metadata": {},
   "outputs": [],
   "source": []
  },
  {
   "cell_type": "markdown",
   "metadata": {},
   "source": [
    "# Visualizations"
   ]
  },
  {
   "attachments": {
    "graphs.PNG": {
     "image/png": "[encoded data removed]"
    }
   },
   "cell_type": "markdown",
   "metadata": {},
   "source": [
    "![graphs.PNG](attachment:graphs.PNG)"
   ]
  },
  {
   "cell_type": "code",
   "execution_count": 5,
   "metadata": {},
   "outputs": [],
   "source": [
    "import matplotlib as mp\n",
    "from matplotlib import pyplot as plt\n",
    "import seaborn as sns\n",
    "\n",
    "%matplotlib inline\n",
    "# every time we generate a graph, it auto displayed in ipynb\n",
    "#   if not, we'll have to use plt.show()"
   ]
  },
  {
   "cell_type": "code",
   "execution_count": 3,
   "metadata": {},
   "outputs": [
    {
     "data": {
      "text/plain": [
       "0     160.0\n",
       "1     160.0\n",
       "2     108.0\n",
       "3     258.0\n",
       "4     360.0\n",
       "5     225.0\n",
       "6     360.0\n",
       "7     146.7\n",
       "8     140.8\n",
       "9     167.6\n",
       "10    167.6\n",
       "11    275.8\n",
       "12    275.8\n",
       "13    275.8\n",
       "14    472.0\n",
       "15    460.0\n",
       "16    440.0\n",
       "17     78.7\n",
       "18     75.7\n",
       "19     71.1\n",
       "20    120.1\n",
       "21    318.0\n",
       "22    304.0\n",
       "23    350.0\n",
       "24    400.0\n",
       "25     79.0\n",
       "26    120.3\n",
       "27     95.1\n",
       "28    351.0\n",
       "29    145.0\n",
       "30    301.0\n",
       "31    121.0\n",
       "Name: TotalSales, dtype: float64"
      ]
     },
     "execution_count": 3,
     "metadata": {},
     "output_type": "execute_result"
    }
   ],
   "source": [
    "stores.TotalSales"
   ]
  },
  {
   "cell_type": "code",
   "execution_count": 7,
   "metadata": {},
   "outputs": [
    {
     "data": {
      "text/plain": [
       "(array([6., 6., 4., 1., 1., 5., 3., 2., 1., 3.]),\n",
       " array([ 71.1 , 111.19, 151.28, 191.37, 231.46, 271.55, 311.64, 351.73,\n",
       "        391.82, 431.91, 472.  ]),\n",
       " <a list of 10 Patch objects>)"
      ]
     },
     "execution_count": 7,
     "metadata": {},
     "output_type": "execute_result"
    },
    {
     "data": {
      "image/png": "[encoded data removed]",
      "text/plain": [
       "<Figure size 432x288 with 1 Axes>"
      ]
     },
     "metadata": {
      "needs_background": "light"
     },
     "output_type": "display_data"
    }
   ],
   "source": [
    "# histograms\n",
    "# univariate\n",
    "\n",
    "# 1, using mp\n",
    "plt.hist(stores.TotalSales)"
   ]
  },
  {
   "cell_type": "code",
   "execution_count": 19,
   "metadata": {},
   "outputs": [
    {
     "data": {
      "image/png": "[encoded data removed]",
      "text/plain": [
       "<Figure size 432x288 with 1 Axes>"
      ]
     },
     "metadata": {
      "needs_background": "light"
     },
     "output_type": "display_data"
    }
   ],
   "source": [
    "plt.hist(stores.TotalSales)\n",
    "plt.show()"
   ]
  },
  {
   "cell_type": "code",
   "execution_count": 22,
   "metadata": {},
   "outputs": [
    {
     "data": {
      "image/png": "[encoded data removed]",
      "text/plain": [
       "<Figure size 432x288 with 1 Axes>"
      ]
     },
     "metadata": {
      "needs_background": "light"
     },
     "output_type": "display_data"
    }
   ],
   "source": [
    "plt.hist(stores.TotalSales,bins=8, color = \"skyblue\", edgecolor =\"black\")  #bins = 8 gives 8 buckets \n",
    "plt.xlabel(\"Stores TotalSales\")\n",
    "plt.ylabel(\"Frequency\")\n",
    "plt.title(\"Histogram of TotalSales from Stores\")\n",
    "plt.show()"
   ]
  },
  {
   "cell_type": "code",
   "execution_count": null,
   "metadata": {},
   "outputs": [],
   "source": [
    "# pandas\n",
    "# Df.plot() or Series.plot()\n",
    "#    -   kind = \"\"   # mandatory argument\n",
    "#              mention the function name from mp.pyplot that can draw a graph\n",
    "#    - .. other args related to a grpah that we generated\n",
    "#    - same like"
   ]
  },
  {
   "cell_type": "code",
   "execution_count": 76,
   "metadata": {},
   "outputs": [
    {
     "data": {
      "image/png": "[encoded data removed]",
      "text/plain": [
       "<Figure size 972x648 with 1 Axes>"
      ]
     },
     "metadata": {
      "needs_background": "light"
     },
     "output_type": "display_data"
    }
   ],
   "source": [
    "# 2, using pandas\n",
    "\n",
    "stores.TotalSales.plot(kind = \"hist\", bins = 8, color = \"indianred\", edgecolor=\"black\" , figsize=(13.5, 9))\n",
    "plt.xlabel(\"Stores TotalSales\")\n",
    "plt.title(\"Histogram of TotalSales from Stores\")\n",
    "plt.show()"
   ]
  },
  {
   "cell_type": "code",
   "execution_count": 24,
   "metadata": {},
   "outputs": [
    {
     "data": {
      "image/png": "[encoded data removed]",
      "text/plain": [
       "<Figure size 432x288 with 1 Axes>"
      ]
     },
     "metadata": {
      "needs_background": "light"
     },
     "output_type": "display_data"
    }
   ],
   "source": [
    "# 3. using seaborn\n",
    "# sns.distplot()  --> histogram + distribution plot\n",
    "\n",
    "sns.distplot(stores.TotalSales,bins=8)\n",
    "plt.ylabel(\"Density\")\n",
    "plt.title(\"Histogram of TotalSales from Stores\")\n",
    "plt.show()"
   ]
  },
  {
   "cell_type": "code",
   "execution_count": 25,
   "metadata": {},
   "outputs": [
    {
     "data": {
      "image/png": "[encoded data removed]",
      "text/plain": [
       "<Figure size 432x288 with 1 Axes>"
      ]
     },
     "metadata": {
      "needs_background": "light"
     },
     "output_type": "display_data"
    }
   ],
   "source": [
    "# Boxplots\n",
    "# 1. plt\n",
    "\n",
    "plt.boxplot(stores.OperatingCost)\n",
    "plt.show()"
   ]
  },
  {
   "cell_type": "code",
   "execution_count": 28,
   "metadata": {},
   "outputs": [
    {
     "data": {
      "text/plain": [
       "<matplotlib.axes._subplots.AxesSubplot at 0x1d004b34148>"
      ]
     },
     "execution_count": 28,
     "metadata": {},
     "output_type": "execute_result"
    },
    {
     "data": {
      "image/png": "[encoded data removed]",
      "text/plain": [
       "<Figure size 432x288 with 1 Axes>"
      ]
     },
     "metadata": {
      "needs_background": "light"
     },
     "output_type": "display_data"
    }
   ],
   "source": [
    "# 2, using pandas\n",
    "stores.OperatingCost.plot(kind = \"box\") # box"
   ]
  },
  {
   "cell_type": "code",
   "execution_count": 29,
   "metadata": {},
   "outputs": [
    {
     "data": {
      "image/png": "[encoded data removed]",
      "text/plain": [
       "<Figure size 432x288 with 1 Axes>"
      ]
     },
     "metadata": {
      "needs_background": "light"
     },
     "output_type": "display_data"
    }
   ],
   "source": [
    "# 3, using seaborn\n",
    "sns.boxplot(stores.OperatingCost)\n",
    "plt.show()"
   ]
  },
  {
   "cell_type": "code",
   "execution_count": 30,
   "metadata": {},
   "outputs": [
    {
     "data": {
      "image/png": "[encoded data removed]",
      "text/plain": [
       "<Figure size 432x288 with 1 Axes>"
      ]
     },
     "metadata": {
      "needs_background": "light"
     },
     "output_type": "display_data"
    }
   ],
   "source": [
    "sns.boxplot(stores.OperatingCost,orient='v') # orient = 'v' (vertical)\n",
    "plt.show()"
   ]
  },
  {
   "cell_type": "code",
   "execution_count": 88,
   "metadata": {},
   "outputs": [],
   "source": [
    "# Task\n",
    "# What is a histogram?\n",
    "# What is Probability Distributions\n",
    "# What are the common Probability Distributions? "
   ]
  },
  {
   "cell_type": "code",
   "execution_count": 14,
   "metadata": {},
   "outputs": [
    {
     "data": {
      "image/png": "[encoded data removed]",
      "text/plain": [
       "<Figure size 432x288 with 1 Axes>"
      ]
     },
     "metadata": {
      "needs_background": "light"
     },
     "output_type": "display_data"
    }
   ],
   "source": [
    "# Scatter plots\n",
    "# x,y plotting\n",
    "#       two Series/arrays of same size.\n",
    "#       one goes on X axis and other on Y\n",
    "\n",
    "# 1 variable scatter\n",
    "# the var/data on Y axis\n",
    "# the index on X axis\n",
    "import numpy as np\n",
    "y = stores.TotalSales\n",
    "x = pd.Series(range(0,len(stores.TotalSales)))\n",
    "\n",
    "# 1. plt\n",
    "plt.scatter(x=x,y=y)\n",
    "plt.xlabel(\"Index\")\n",
    "plt.ylabel(\"TotalSales\")\n",
    "plt.title(\"Distribution of TotalSales\")\n",
    "plt.xlim(-10,40)\n",
    "# plt.ylim()\n",
    "plt.show()"
   ]
  },
  {
   "cell_type": "code",
   "execution_count": 13,
   "metadata": {},
   "outputs": [
    {
     "data": {
      "text/plain": [
       "(200, 800)"
      ]
     },
     "execution_count": 13,
     "metadata": {},
     "output_type": "execute_result"
    },
    {
     "data": {
      "image/png": "[encoded data removed]",
      "text/plain": [
       "<Figure size 432x288 with 1 Axes>"
      ]
     },
     "metadata": {
      "needs_background": "light"
     },
     "output_type": "display_data"
    }
   ],
   "source": [
    "plt.scatter(x=stores.index, y=stores.TotalSales)\n",
    "plt.xlabel(\"Index\")\n",
    "plt.ylabel(\"TotalSales\")\n",
    "plt.title(\"Distribution of TotalSales\")\n",
    "plt.xlim(-5,40) #changes end point values \n",
    "plt.ylim(200,800) #changes end point values"
   ]
  },
  {
   "cell_type": "code",
   "execution_count": 16,
   "metadata": {},
   "outputs": [
    {
     "data": {
      "text/plain": [
       "array([-10,  -5,   0,   5,  10,  15,  20,  25,  30,  35])"
      ]
     },
     "execution_count": 16,
     "metadata": {},
     "output_type": "execute_result"
    }
   ],
   "source": [
    "np.arange(-10,40,5) #creates range of nos with increment"
   ]
  },
  {
   "cell_type": "code",
   "execution_count": 20,
   "metadata": {},
   "outputs": [
    {
     "data": {
      "image/png": "[encoded data removed]",
      "text/plain": [
       "<Figure size 432x288 with 1 Axes>"
      ]
     },
     "metadata": {
      "needs_background": "light"
     },
     "output_type": "display_data"
    }
   ],
   "source": [
    "plt.scatter(x=x,y=y)\n",
    "plt.xlabel(\"Index\")\n",
    "plt.ylabel(\"TotalSales\")\n",
    "plt.title(\"Distribution of TotalSales\")\n",
    "plt.xticks(np.arange(-10,40,5)) #changes end point values and gives increment also\n",
    "plt.show()"
   ]
  },
  {
   "cell_type": "code",
   "execution_count": 2,
   "metadata": {},
   "outputs": [
    {
     "data": {
      "text/plain": [
       "[521,\n",
       " 300,\n",
       " 686,\n",
       " 465,\n",
       " 773,\n",
       " 649,\n",
       " 626,\n",
       " 448,\n",
       " 778,\n",
       " 588,\n",
       " 363,\n",
       " 574,\n",
       " 501,\n",
       " 365,\n",
       " 370,\n",
       " 748,\n",
       " 376,\n",
       " 468,\n",
       " 640,\n",
       " 426,\n",
       " 727,\n",
       " 403,\n",
       " 717,\n",
       " 678,\n",
       " 465,\n",
       " 791,\n",
       " 741,\n",
       " 787,\n",
       " 782,\n",
       " 373,\n",
       " 571,\n",
       " 523]"
      ]
     },
     "execution_count": 2,
     "metadata": {},
     "output_type": "execute_result"
    }
   ],
   "source": [
    "import numpy as np\n",
    "sizes = list(np.random.randint(300,800,32))\n",
    "sizes"
   ]
  },
  {
   "cell_type": "code",
   "execution_count": 35,
   "metadata": {},
   "outputs": [
    {
     "data": {
      "image/png": "[encoded data removed]",
      "text/plain": [
       "<Figure size 432x288 with 1 Axes>"
      ]
     },
     "metadata": {
      "needs_background": "light"
     },
     "output_type": "display_data"
    }
   ],
   "source": [
    "plt.scatter(x=x,y=y,marker=\"o\",s=sizes,c=\"orange\",edgecolors=\"black\",alpha = .4)\n",
    "# Args\n",
    "# 1. marker =\n",
    "#          \"o\"      :    default\n",
    "#          \"+\"      :    cross\n",
    "#          \"^\"      :    triangles\n",
    "#          \"*\"      :    stars\n",
    "# 2. s = size\n",
    "#         one value   : simply changes the size of the markers\n",
    "#         list of values  : each and evey marker will get a specific size\n",
    "# 3. alpha\n",
    "# 4. c = color and edgecolor = border\n",
    "\n",
    "plt.xlabel(\"Index\")\n",
    "plt.ylabel(\"TotalSales\")\n",
    "plt.title(\"Distribution of TotalSales\")\n",
    "plt.show()"
   ]
  },
  {
   "cell_type": "code",
   "execution_count": 36,
   "metadata": {},
   "outputs": [
    {
     "data": {
      "image/png": "[encoded data removed]",
      "text/plain": [
       "<Figure size 432x288 with 1 Axes>"
      ]
     },
     "metadata": {
      "needs_background": "light"
     },
     "output_type": "display_data"
    }
   ],
   "source": [
    "# two variables - univariate scatterplot but super-imposed on one another\n",
    "qtr1 = [34,90,23,45,90,23,80]\n",
    "qtr2 = [45,20,45,10,80,20,33]\n",
    "\n",
    "ix = list(range(0,len(qtr1)))\n",
    "\n",
    "plt.scatter(x=ix,y=qtr1,marker = \"^\", c = \"green\", s = 150)\n",
    "plt.scatter(x=ix,y=qtr2,marker = \"*\", c = \"blue\", s = 150)\n",
    "plt.show()"
   ]
  },
  {
   "cell_type": "code",
   "execution_count": 41,
   "metadata": {},
   "outputs": [
    {
     "data": {
      "image/png": "[encoded data removed]",
      "text/plain": [
       "<Figure size 432x288 with 1 Axes>"
      ]
     },
     "metadata": {
      "needs_background": "light"
     },
     "output_type": "display_data"
    }
   ],
   "source": [
    "# 2. seaborn\n",
    "sns.scatterplot(x=x,y=y)\n",
    "plt.xlabel(\"Index\")\n",
    "plt.ylabel(\"TotalSales\")\n",
    "plt.title(\"Distribution of TotalSales\")\n",
    "plt.xticks(np.arange(-10,40,5))\n",
    "plt.show()"
   ]
  },
  {
   "cell_type": "code",
   "execution_count": 50,
   "metadata": {},
   "outputs": [
    {
     "data": {
      "text/plain": [
       "<matplotlib.axes._subplots.AxesSubplot at 0x269c5a67b88>"
      ]
     },
     "execution_count": 50,
     "metadata": {},
     "output_type": "execute_result"
    },
    {
     "data": {
      "image/png": "[encoded data removed]",
      "text/plain": [
       "<Figure size 432x288 with 1 Axes>"
      ]
     },
     "metadata": {
      "needs_background": "light"
     },
     "output_type": "display_data"
    }
   ],
   "source": [
    "sns.scatterplot(x=\"OperatingCost\", y = \"TotalSales\", data = stores)"
   ]
  },
  {
   "cell_type": "code",
   "execution_count": 44,
   "metadata": {},
   "outputs": [
    {
     "data": {
      "text/html": [
       "<div>\n",
       "<style scoped>\n",
       "    .dataframe tbody tr th:only-of-type {\n",
       "        vertical-align: middle;\n",
       "    }\n",
       "\n",
       "    .dataframe tbody tr th {\n",
       "        vertical-align: top;\n",
       "    }\n",
       "\n",
       "    .dataframe thead th {\n",
       "        text-align: right;\n",
       "    }\n",
       "</style>\n",
       "<table border=\"1\" class=\"dataframe\">\n",
       "  <thead>\n",
       "    <tr style=\"text-align: right;\">\n",
       "      <th></th>\n",
       "      <th>StoreCode</th>\n",
       "      <th>StoreName</th>\n",
       "      <th>StoreType</th>\n",
       "      <th>Location</th>\n",
       "      <th>OperatingCost</th>\n",
       "      <th>Staff_Cnt</th>\n",
       "      <th>TotalSales</th>\n",
       "      <th>Total_Customers</th>\n",
       "      <th>AcqCostPercust</th>\n",
       "      <th>BasketSize</th>\n",
       "      <th>ProfitPercust</th>\n",
       "      <th>OwnStore</th>\n",
       "      <th>OnlinePresence</th>\n",
       "      <th>Tenure</th>\n",
       "      <th>StoreSegment</th>\n",
       "    </tr>\n",
       "  </thead>\n",
       "  <tbody>\n",
       "    <tr>\n",
       "      <th>0</th>\n",
       "      <td>STR101</td>\n",
       "      <td>Electronics Zone</td>\n",
       "      <td>Electronincs</td>\n",
       "      <td>Delhi</td>\n",
       "      <td>21.0</td>\n",
       "      <td>60</td>\n",
       "      <td>160.0</td>\n",
       "      <td>110</td>\n",
       "      <td>3.90</td>\n",
       "      <td>2.620</td>\n",
       "      <td>16.46</td>\n",
       "      <td>0</td>\n",
       "      <td>1</td>\n",
       "      <td>4</td>\n",
       "      <td>4</td>\n",
       "    </tr>\n",
       "    <tr>\n",
       "      <th>1</th>\n",
       "      <td>STR102</td>\n",
       "      <td>Apparel Zone</td>\n",
       "      <td>Apparel</td>\n",
       "      <td>Delhi</td>\n",
       "      <td>21.0</td>\n",
       "      <td>60</td>\n",
       "      <td>160.0</td>\n",
       "      <td>110</td>\n",
       "      <td>3.90</td>\n",
       "      <td>2.875</td>\n",
       "      <td>17.02</td>\n",
       "      <td>0</td>\n",
       "      <td>1</td>\n",
       "      <td>4</td>\n",
       "      <td>4</td>\n",
       "    </tr>\n",
       "    <tr>\n",
       "      <th>2</th>\n",
       "      <td>STR103</td>\n",
       "      <td>Super Bazar</td>\n",
       "      <td>Super Market</td>\n",
       "      <td>Delhi</td>\n",
       "      <td>22.8</td>\n",
       "      <td>40</td>\n",
       "      <td>108.0</td>\n",
       "      <td>93</td>\n",
       "      <td>3.85</td>\n",
       "      <td>2.320</td>\n",
       "      <td>18.61</td>\n",
       "      <td>1</td>\n",
       "      <td>1</td>\n",
       "      <td>4</td>\n",
       "      <td>1</td>\n",
       "    </tr>\n",
       "    <tr>\n",
       "      <th>3</th>\n",
       "      <td>STR104</td>\n",
       "      <td>Super Market</td>\n",
       "      <td>Super Market</td>\n",
       "      <td>Delhi</td>\n",
       "      <td>21.4</td>\n",
       "      <td>60</td>\n",
       "      <td>258.0</td>\n",
       "      <td>110</td>\n",
       "      <td>3.08</td>\n",
       "      <td>3.215</td>\n",
       "      <td>19.44</td>\n",
       "      <td>1</td>\n",
       "      <td>0</td>\n",
       "      <td>3</td>\n",
       "      <td>1</td>\n",
       "    </tr>\n",
       "    <tr>\n",
       "      <th>4</th>\n",
       "      <td>STR105</td>\n",
       "      <td>Central Store</td>\n",
       "      <td>Super Market</td>\n",
       "      <td>Delhi</td>\n",
       "      <td>18.7</td>\n",
       "      <td>80</td>\n",
       "      <td>360.0</td>\n",
       "      <td>175</td>\n",
       "      <td>3.15</td>\n",
       "      <td>3.440</td>\n",
       "      <td>17.02</td>\n",
       "      <td>0</td>\n",
       "      <td>0</td>\n",
       "      <td>3</td>\n",
       "      <td>2</td>\n",
       "    </tr>\n",
       "  </tbody>\n",
       "</table>\n",
       "</div>"
      ],
      "text/plain": [
       "  StoreCode         StoreName     StoreType Location  OperatingCost  \\\n",
       "0    STR101  Electronics Zone  Electronincs    Delhi           21.0   \n",
       "1    STR102      Apparel Zone       Apparel    Delhi           21.0   \n",
       "2    STR103       Super Bazar  Super Market    Delhi           22.8   \n",
       "3    STR104      Super Market  Super Market    Delhi           21.4   \n",
       "4    STR105     Central Store  Super Market    Delhi           18.7   \n",
       "\n",
       "   Staff_Cnt  TotalSales  Total_Customers  AcqCostPercust  BasketSize  \\\n",
       "0         60       160.0              110            3.90       2.620   \n",
       "1         60       160.0              110            3.90       2.875   \n",
       "2         40       108.0               93            3.85       2.320   \n",
       "3         60       258.0              110            3.08       3.215   \n",
       "4         80       360.0              175            3.15       3.440   \n",
       "\n",
       "   ProfitPercust  OwnStore  OnlinePresence  Tenure  StoreSegment  \n",
       "0          16.46         0               1       4             4  \n",
       "1          17.02         0               1       4             4  \n",
       "2          18.61         1               1       4             1  \n",
       "3          19.44         1               0       3             1  \n",
       "4          17.02         0               0       3             2  "
      ]
     },
     "execution_count": 44,
     "metadata": {},
     "output_type": "execute_result"
    }
   ],
   "source": [
    "stores.head()"
   ]
  },
  {
   "cell_type": "code",
   "execution_count": 45,
   "metadata": {},
   "outputs": [
    {
     "data": {
      "image/png": "[encoded data removed]",
      "text/plain": [
       "<Figure size 432x288 with 1 Axes>"
      ]
     },
     "metadata": {
      "needs_background": "light"
     },
     "output_type": "display_data"
    }
   ],
   "source": [
    "# two variable scatter plot\n",
    "plt.scatter(x=stores.OperatingCost,y=stores.TotalSales)\n",
    "plt.xlabel(\"Operating Cost\")\n",
    "plt.ylabel(\"TotalSales\")\n",
    "plt.title(\"Scatterplot between OC and TS\")\n",
    "plt.show()"
   ]
  },
  {
   "cell_type": "code",
   "execution_count": 48,
   "metadata": {},
   "outputs": [
    {
     "data": {
      "image/png": "[encoded data removed]",
      "text/plain": [
       "<Figure size 360x360 with 1 Axes>"
      ]
     },
     "metadata": {
      "needs_background": "light"
     },
     "output_type": "display_data"
    }
   ],
   "source": [
    "# 2. Using seaborn\n",
    "# sns.lmplot()\n",
    "# lm -> linear modelling\n",
    "#   y = mx + C\n",
    "\n",
    "sns.lmplot(x=\"OperatingCost\", y = \"TotalSales\", data = stores)\n",
    "plt.show()"
   ]
  },
  {
   "cell_type": "code",
   "execution_count": 49,
   "metadata": {},
   "outputs": [
    {
     "data": {
      "image/png": "[encoded data removed]",
      "text/plain": [
       "<Figure size 360x360 with 1 Axes>"
      ]
     },
     "metadata": {
      "needs_background": "light"
     },
     "output_type": "display_data"
    }
   ],
   "source": [
    "sns.lmplot(x=\"OperatingCost\", y = \"TotalSales\", data = stores,fit_reg=False) #not having the line\n",
    "plt.show()"
   ]
  },
  {
   "cell_type": "code",
   "execution_count": 57,
   "metadata": {},
   "outputs": [
    {
     "data": {
      "image/png": "[encoded data removed]",
      "text/plain": [
       "<Figure size 437.125x360 with 1 Axes>"
      ]
     },
     "metadata": {
      "needs_background": "light"
     },
     "output_type": "display_data"
    }
   ],
   "source": [
    "# 2. Using seaborn\n",
    "# sns.lmplot()\n",
    "# lm -> linear modelling\n",
    "#   y = mx + C\n",
    "\n",
    "# add a 3rd variable  --- categorical variable\n",
    "#     hue = \"\" (adds color automatically)\n",
    "\n",
    "# palatte = [\"mistyrose2\",\"orange2\",\"slategray2\",\"sienna3\"]\n",
    "# the no of colors passed should be same as the no of categories of the cat variable\n",
    "\n",
    "sns.lmplot(\"OperatingCost\", y = \"TotalSales\", hue = \"Location\",data = stores,fit_reg=False)\n",
    "plt.show()"
   ]
  },
  {
   "cell_type": "markdown",
   "metadata": {},
   "source": [
    "https://seaborn.pydata.org/\n",
    "\n",
    "---\n"
   ]
  },
  {
   "cell_type": "markdown",
   "metadata": {},
   "source": [
    "for colors http://www.stat.columbia.edu/~tzheng/files/Rcolor.pdf"
   ]
  },
  {
   "cell_type": "code",
   "execution_count": null,
   "metadata": {},
   "outputs": [],
   "source": []
  },
  {
   "cell_type": "code",
   "execution_count": 31,
   "metadata": {},
   "outputs": [
    {
     "data": {
      "text/html": [
       "<div>\n",
       "<style scoped>\n",
       "    .dataframe tbody tr th:only-of-type {\n",
       "        vertical-align: middle;\n",
       "    }\n",
       "\n",
       "    .dataframe tbody tr th {\n",
       "        vertical-align: top;\n",
       "    }\n",
       "\n",
       "    .dataframe thead th {\n",
       "        text-align: right;\n",
       "    }\n",
       "</style>\n",
       "<table border=\"1\" class=\"dataframe\">\n",
       "  <thead>\n",
       "    <tr style=\"text-align: right;\">\n",
       "      <th></th>\n",
       "      <th>CountOf_StoreType</th>\n",
       "    </tr>\n",
       "    <tr>\n",
       "      <th>StoreType</th>\n",
       "      <th></th>\n",
       "    </tr>\n",
       "  </thead>\n",
       "  <tbody>\n",
       "    <tr>\n",
       "      <th>Apparel</th>\n",
       "      <td>12</td>\n",
       "    </tr>\n",
       "    <tr>\n",
       "      <th>Electronincs</th>\n",
       "      <td>8</td>\n",
       "    </tr>\n",
       "    <tr>\n",
       "      <th>Super Market</th>\n",
       "      <td>12</td>\n",
       "    </tr>\n",
       "  </tbody>\n",
       "</table>\n",
       "</div>"
      ],
      "text/plain": [
       "              CountOf_StoreType\n",
       "StoreType                      \n",
       "Apparel                      12\n",
       "Electronincs                  8\n",
       "Super Market                 12"
      ]
     },
     "metadata": {},
     "output_type": "display_data"
    },
    {
     "data": {
      "text/html": [
       "<div>\n",
       "<style scoped>\n",
       "    .dataframe tbody tr th:only-of-type {\n",
       "        vertical-align: middle;\n",
       "    }\n",
       "\n",
       "    .dataframe tbody tr th {\n",
       "        vertical-align: top;\n",
       "    }\n",
       "\n",
       "    .dataframe thead th {\n",
       "        text-align: right;\n",
       "    }\n",
       "</style>\n",
       "<table border=\"1\" class=\"dataframe\">\n",
       "  <thead>\n",
       "    <tr style=\"text-align: right;\">\n",
       "      <th></th>\n",
       "      <th>StoreType</th>\n",
       "      <th>CountOf_StoreType</th>\n",
       "    </tr>\n",
       "  </thead>\n",
       "  <tbody>\n",
       "    <tr>\n",
       "      <th>0</th>\n",
       "      <td>Apparel</td>\n",
       "      <td>12</td>\n",
       "    </tr>\n",
       "    <tr>\n",
       "      <th>1</th>\n",
       "      <td>Electronincs</td>\n",
       "      <td>8</td>\n",
       "    </tr>\n",
       "    <tr>\n",
       "      <th>2</th>\n",
       "      <td>Super Market</td>\n",
       "      <td>12</td>\n",
       "    </tr>\n",
       "  </tbody>\n",
       "</table>\n",
       "</div>"
      ],
      "text/plain": [
       "      StoreType  CountOf_StoreType\n",
       "0       Apparel                 12\n",
       "1  Electronincs                  8\n",
       "2  Super Market                 12"
      ]
     },
     "metadata": {},
     "output_type": "display_data"
    }
   ],
   "source": [
    "# Bargraphs\n",
    "# frequency bars\n",
    "\n",
    "res1 = stores.groupby(by=\"StoreType\")[[\"StoreType\"]].count().add_prefix(\"CountOf_\")\n",
    "display(res1)\n",
    "res2 = res1.reset_index()\n",
    "display(res2)"
   ]
  },
  {
   "cell_type": "markdown",
   "metadata": {},
   "source": [
    "for colors http://www.stat.columbia.edu/~tzheng/files/Rcolor.pdf"
   ]
  },
  {
   "cell_type": "code",
   "execution_count": null,
   "metadata": {},
   "outputs": [],
   "source": []
  },
  {
   "cell_type": "code",
   "execution_count": 178,
   "metadata": {},
   "outputs": [
    {
     "data": {
      "image/png": "[encoded data removed]",
      "text/plain": [
       "<Figure size 432x288 with 1 Axes>"
      ]
     },
     "metadata": {},
     "output_type": "display_data"
    }
   ],
   "source": [
    "# 1. Frequecny bars\n",
    "# 1.1 using pandas \n",
    "\n",
    "# for .plot the suitable dataset here is res1\n",
    "\n",
    "# kind = \"bar\"\n",
    "# legend = False or plt.legend(\"\") to remove main title\n",
    "\n",
    "res1.plot(kind=\"bar\", legend = False, color = \"darkgoldenrod\", edgecolor=\"black\")\n",
    "#plt.legend(\"\") \n",
    "plt.xticks(rotation=45)\n",
    "plt.show()"
   ]
  },
  {
   "cell_type": "code",
   "execution_count": 6,
   "metadata": {},
   "outputs": [
    {
     "data": {
      "text/plain": [
       "<BarContainer object of 3 artists>"
      ]
     },
     "execution_count": 6,
     "metadata": {},
     "output_type": "execute_result"
    },
    {
     "data": {
      "image/png": "[encoded data removed]",
      "text/plain": [
       "<Figure size 432x288 with 1 Axes>"
      ]
     },
     "metadata": {
      "needs_background": "light"
     },
     "output_type": "display_data"
    }
   ],
   "source": [
    "# for plt.bar, the suitable input is res2 not res1\n",
    "plt.bar(x = res2.StoreType, height = res2.CountOf_StoreType)  # we don't have y = \"\", we have height = \"\""
   ]
  },
  {
   "cell_type": "code",
   "execution_count": 32,
   "metadata": {},
   "outputs": [
    {
     "data": {
      "text/html": [
       "<div>\n",
       "<style scoped>\n",
       "    .dataframe tbody tr th:only-of-type {\n",
       "        vertical-align: middle;\n",
       "    }\n",
       "\n",
       "    .dataframe tbody tr th {\n",
       "        vertical-align: top;\n",
       "    }\n",
       "\n",
       "    .dataframe thead th {\n",
       "        text-align: right;\n",
       "    }\n",
       "</style>\n",
       "<table border=\"1\" class=\"dataframe\">\n",
       "  <thead>\n",
       "    <tr style=\"text-align: right;\">\n",
       "      <th></th>\n",
       "      <th>StoreType</th>\n",
       "      <th>CountOf_StoreType</th>\n",
       "    </tr>\n",
       "  </thead>\n",
       "  <tbody>\n",
       "    <tr>\n",
       "      <th>0</th>\n",
       "      <td>Apparel</td>\n",
       "      <td>12</td>\n",
       "    </tr>\n",
       "    <tr>\n",
       "      <th>1</th>\n",
       "      <td>Electronincs</td>\n",
       "      <td>8</td>\n",
       "    </tr>\n",
       "    <tr>\n",
       "      <th>2</th>\n",
       "      <td>Super Market</td>\n",
       "      <td>12</td>\n",
       "    </tr>\n",
       "  </tbody>\n",
       "</table>\n",
       "</div>"
      ],
      "text/plain": [
       "      StoreType  CountOf_StoreType\n",
       "0       Apparel                 12\n",
       "1  Electronincs                  8\n",
       "2  Super Market                 12"
      ]
     },
     "execution_count": 32,
     "metadata": {},
     "output_type": "execute_result"
    }
   ],
   "source": [
    "res2"
   ]
  },
  {
   "cell_type": "code",
   "execution_count": 13,
   "metadata": {},
   "outputs": [
    {
     "data": {
      "image/png": "[encoded data removed]",
      "text/plain": [
       "<Figure size 432x288 with 1 Axes>"
      ]
     },
     "metadata": {
      "needs_background": "light"
     },
     "output_type": "display_data"
    }
   ],
   "source": [
    "# 1.2 plt.bar()\n",
    "\n",
    "plt.bar(x = res2.StoreType, height = res2.CountOf_StoreType) \n",
    "# also, add labels on top of the bars\n",
    "\n",
    "#plt.text(x=0,y=12,s=12)        # s = str or the text\n",
    "#plt.text(x=1,y=8,s=8)\n",
    "#plt.text(x=2,y=12,s=12)\n",
    "\n",
    "# OR\n",
    "\n",
    "# x=0                                                   # FOR LOOP\n",
    "# for y_axis in res2.CountOf_StoreType:\n",
    "#     plt.text(x=x,y=y_axis,s=str(y_axis))\n",
    "#     x += 1\n",
    "\n",
    "# OR\n",
    "\n",
    "for x,y_axis in enumerate(res2.CountOf_StoreType):  #enumerate gives both value plus index\n",
    "    plt.text(x=x,y=y_axis,s=str(y_axis))\n",
    "\n",
    "plt.show()\n",
    " "
   ]
  },
  {
   "cell_type": "code",
   "execution_count": 33,
   "metadata": {},
   "outputs": [],
   "source": [
    "# Multivariate bargraphs\n",
    "res1 = stores.groupby(by=[\"Location\",\"StoreType\"])[[\"TotalSales\"]].sum().add_prefix(\"SumOf_\")\n",
    "res2 = res1.reset_index()"
   ]
  },
  {
   "cell_type": "code",
   "execution_count": 34,
   "metadata": {},
   "outputs": [
    {
     "data": {
      "image/png": "[encoded data removed]",
      "text/plain": [
       "<Figure size 432x288 with 1 Axes>"
      ]
     },
     "metadata": {
      "needs_background": "light"
     },
     "output_type": "display_data"
    }
   ],
   "source": [
    "# 1. .plot()\n",
    "res1.plot(kind=\"bar\",legend=False)\n",
    "for x,y_axis in enumerate(res1.SumOf_TotalSales):\n",
    "    plt.text(x=x,y=y_axis,s=str(y_axis))\n",
    "plt.show()"
   ]
  },
  {
   "cell_type": "code",
   "execution_count": 35,
   "metadata": {},
   "outputs": [
    {
     "data": {
      "text/plain": [
       "<matplotlib.axes._subplots.AxesSubplot at 0x211669c9d48>"
      ]
     },
     "execution_count": 35,
     "metadata": {},
     "output_type": "execute_result"
    },
    {
     "data": {
      "image/png": "[encoded data removed]",
      "text/plain": [
       "<Figure size 432x288 with 1 Axes>"
      ]
     },
     "metadata": {
      "needs_background": "light"
     },
     "output_type": "display_data"
    }
   ],
   "source": [
    "# 2. using .plot but on the wide format data\n",
    "# Dodged bar plot\n",
    "res2_wide = res2.pivot_table(index=\"Location\",columns=\"StoreType\",values=\"SumOf_TotalSales\")\n",
    "res2_wide.plot(kind=\"bar\")"
   ]
  },
  {
   "cell_type": "code",
   "execution_count": 37,
   "metadata": {},
   "outputs": [
    {
     "data": {
      "text/html": [
       "<div>\n",
       "<style scoped>\n",
       "    .dataframe tbody tr th:only-of-type {\n",
       "        vertical-align: middle;\n",
       "    }\n",
       "\n",
       "    .dataframe tbody tr th {\n",
       "        vertical-align: top;\n",
       "    }\n",
       "\n",
       "    .dataframe thead th {\n",
       "        text-align: right;\n",
       "    }\n",
       "</style>\n",
       "<table border=\"1\" class=\"dataframe\">\n",
       "  <thead>\n",
       "    <tr style=\"text-align: right;\">\n",
       "      <th></th>\n",
       "      <th>Location</th>\n",
       "      <th>StoreType</th>\n",
       "      <th>SumOf_TotalSales</th>\n",
       "    </tr>\n",
       "  </thead>\n",
       "  <tbody>\n",
       "    <tr>\n",
       "      <th>0</th>\n",
       "      <td>Chennai</td>\n",
       "      <td>Apparel</td>\n",
       "      <td>915.4</td>\n",
       "    </tr>\n",
       "    <tr>\n",
       "      <th>1</th>\n",
       "      <td>Chennai</td>\n",
       "      <td>Electronincs</td>\n",
       "      <td>600.8</td>\n",
       "    </tr>\n",
       "    <tr>\n",
       "      <th>2</th>\n",
       "      <td>Chennai</td>\n",
       "      <td>Super Market</td>\n",
       "      <td>719.2</td>\n",
       "    </tr>\n",
       "    <tr>\n",
       "      <th>3</th>\n",
       "      <td>Delhi</td>\n",
       "      <td>Apparel</td>\n",
       "      <td>745.0</td>\n",
       "    </tr>\n",
       "    <tr>\n",
       "      <th>4</th>\n",
       "      <td>Delhi</td>\n",
       "      <td>Electronincs</td>\n",
       "      <td>306.7</td>\n",
       "    </tr>\n",
       "    <tr>\n",
       "      <th>5</th>\n",
       "      <td>Delhi</td>\n",
       "      <td>Super Market</td>\n",
       "      <td>726.0</td>\n",
       "    </tr>\n",
       "    <tr>\n",
       "      <th>6</th>\n",
       "      <td>Kolkata</td>\n",
       "      <td>Apparel</td>\n",
       "      <td>525.0</td>\n",
       "    </tr>\n",
       "    <tr>\n",
       "      <th>7</th>\n",
       "      <td>Kolkata</td>\n",
       "      <td>Electronincs</td>\n",
       "      <td>521.0</td>\n",
       "    </tr>\n",
       "    <tr>\n",
       "      <th>8</th>\n",
       "      <td>Kolkata</td>\n",
       "      <td>Super Market</td>\n",
       "      <td>566.4</td>\n",
       "    </tr>\n",
       "    <tr>\n",
       "      <th>9</th>\n",
       "      <td>Mumbai</td>\n",
       "      <td>Apparel</td>\n",
       "      <td>700.7</td>\n",
       "    </tr>\n",
       "    <tr>\n",
       "      <th>10</th>\n",
       "      <td>Mumbai</td>\n",
       "      <td>Electronincs</td>\n",
       "      <td>790.0</td>\n",
       "    </tr>\n",
       "    <tr>\n",
       "      <th>11</th>\n",
       "      <td>Mumbai</td>\n",
       "      <td>Super Market</td>\n",
       "      <td>266.9</td>\n",
       "    </tr>\n",
       "  </tbody>\n",
       "</table>\n",
       "</div>"
      ],
      "text/plain": [
       "   Location     StoreType  SumOf_TotalSales\n",
       "0   Chennai       Apparel             915.4\n",
       "1   Chennai  Electronincs             600.8\n",
       "2   Chennai  Super Market             719.2\n",
       "3     Delhi       Apparel             745.0\n",
       "4     Delhi  Electronincs             306.7\n",
       "5     Delhi  Super Market             726.0\n",
       "6   Kolkata       Apparel             525.0\n",
       "7   Kolkata  Electronincs             521.0\n",
       "8   Kolkata  Super Market             566.4\n",
       "9    Mumbai       Apparel             700.7\n",
       "10   Mumbai  Electronincs             790.0\n",
       "11   Mumbai  Super Market             266.9"
      ]
     },
     "execution_count": 37,
     "metadata": {},
     "output_type": "execute_result"
    }
   ],
   "source": [
    "res2"
   ]
  },
  {
   "cell_type": "code",
   "execution_count": 48,
   "metadata": {},
   "outputs": [
    {
     "data": {
      "text/plain": [
       "Text(0.85, 1777.7, '726.0')"
      ]
     },
     "execution_count": 48,
     "metadata": {},
     "output_type": "execute_result"
    },
    {
     "data": {
      "image/png": "[encoded data removed]",
      "text/plain": [
       "<Figure size 432x288 with 1 Axes>"
      ]
     },
     "metadata": {
      "needs_background": "light"
     },
     "output_type": "display_data"
    }
   ],
   "source": [
    "## stacked bar plot\n",
    "res2_wide = res2.pivot_table(index=\"Location\",columns=\"StoreType\",values=\"SumOf_TotalSales\")\n",
    "res2_wide.plot(kind=\"bar\",stacked=True)\n",
    "\n",
    "plt.text(x=-0.15,y=915.4,s=\"915.4\")\n",
    "plt.text(x=-0.15,y=915.4+600.8,s=\"600.8\")\n",
    "plt.text(x=-0.15,y=915.4+600.8+719.2,s=\"719.2\")\n",
    "\n",
    "plt.text(x=0.85,y=745.0,s=\"745.0\")\n",
    "plt.text(x=0.85,y=745.0+306.7,s=\"306.7\")\n",
    "plt.text(x=0.85,y=745.0+306.7+726.0,s=\"726.0\")"
   ]
  },
  {
   "cell_type": "code",
   "execution_count": null,
   "metadata": {},
   "outputs": [],
   "source": []
  },
  {
   "cell_type": "code",
   "execution_count": null,
   "metadata": {},
   "outputs": [],
   "source": []
  },
  {
   "cell_type": "code",
   "execution_count": 49,
   "metadata": {},
   "outputs": [
    {
     "data": {
      "text/html": [
       "<div>\n",
       "<style scoped>\n",
       "    .dataframe tbody tr th:only-of-type {\n",
       "        vertical-align: middle;\n",
       "    }\n",
       "\n",
       "    .dataframe tbody tr th {\n",
       "        vertical-align: top;\n",
       "    }\n",
       "\n",
       "    .dataframe thead th {\n",
       "        text-align: right;\n",
       "    }\n",
       "</style>\n",
       "<table border=\"1\" class=\"dataframe\">\n",
       "  <thead>\n",
       "    <tr style=\"text-align: right;\">\n",
       "      <th></th>\n",
       "      <th>CountOf_StoreType</th>\n",
       "    </tr>\n",
       "    <tr>\n",
       "      <th>StoreType</th>\n",
       "      <th></th>\n",
       "    </tr>\n",
       "  </thead>\n",
       "  <tbody>\n",
       "    <tr>\n",
       "      <th>Apparel</th>\n",
       "      <td>12</td>\n",
       "    </tr>\n",
       "    <tr>\n",
       "      <th>Electronincs</th>\n",
       "      <td>8</td>\n",
       "    </tr>\n",
       "    <tr>\n",
       "      <th>Super Market</th>\n",
       "      <td>12</td>\n",
       "    </tr>\n",
       "  </tbody>\n",
       "</table>\n",
       "</div>"
      ],
      "text/plain": [
       "              CountOf_StoreType\n",
       "StoreType                      \n",
       "Apparel                      12\n",
       "Electronincs                  8\n",
       "Super Market                 12"
      ]
     },
     "metadata": {},
     "output_type": "display_data"
    },
    {
     "data": {
      "text/html": [
       "<div>\n",
       "<style scoped>\n",
       "    .dataframe tbody tr th:only-of-type {\n",
       "        vertical-align: middle;\n",
       "    }\n",
       "\n",
       "    .dataframe tbody tr th {\n",
       "        vertical-align: top;\n",
       "    }\n",
       "\n",
       "    .dataframe thead th {\n",
       "        text-align: right;\n",
       "    }\n",
       "</style>\n",
       "<table border=\"1\" class=\"dataframe\">\n",
       "  <thead>\n",
       "    <tr style=\"text-align: right;\">\n",
       "      <th></th>\n",
       "      <th>StoreType</th>\n",
       "      <th>CountOf_StoreType</th>\n",
       "    </tr>\n",
       "  </thead>\n",
       "  <tbody>\n",
       "    <tr>\n",
       "      <th>0</th>\n",
       "      <td>Apparel</td>\n",
       "      <td>12</td>\n",
       "    </tr>\n",
       "    <tr>\n",
       "      <th>1</th>\n",
       "      <td>Electronincs</td>\n",
       "      <td>8</td>\n",
       "    </tr>\n",
       "    <tr>\n",
       "      <th>2</th>\n",
       "      <td>Super Market</td>\n",
       "      <td>12</td>\n",
       "    </tr>\n",
       "  </tbody>\n",
       "</table>\n",
       "</div>"
      ],
      "text/plain": [
       "      StoreType  CountOf_StoreType\n",
       "0       Apparel                 12\n",
       "1  Electronincs                  8\n",
       "2  Super Market                 12"
      ]
     },
     "metadata": {},
     "output_type": "display_data"
    }
   ],
   "source": [
    "# pie charts\n",
    "# frequency pie\n",
    "\n",
    "res1 = stores.groupby(by=\"StoreType\")[[\"StoreType\"]].count().add_prefix(\"CountOf_\")\n",
    "display(res1)\n",
    "res2 = res1.reset_index()\n",
    "display(res2)"
   ]
  },
  {
   "cell_type": "code",
   "execution_count": 51,
   "metadata": {},
   "outputs": [
    {
     "data": {
      "image/png": "[encoded data removed]",
      "text/plain": [
       "<Figure size 432x288 with 1 Axes>"
      ]
     },
     "metadata": {},
     "output_type": "display_data"
    }
   ],
   "source": [
    "res1.plot(kind=\"pie\",subplots=True, legend=False, autopct = \"%.4f%%\")\n",
    "plt.ylabel(\"\")\n",
    "plt.show()\n",
    "\n",
    "# autopct = \"%.2f%%\"  (automatically gives percentage)\n",
    "# %          %\n",
    "#      .2 : no of decimal points\n",
    "#      f : floating point\n",
    "#       % : the % symbol"
   ]
  },
  {
   "cell_type": "code",
   "execution_count": 52,
   "metadata": {},
   "outputs": [],
   "source": [
    "# Multivariate pie charts\n",
    "res1 = stores.groupby(by=[\"Location\",\"StoreType\"])[[\"TotalSales\"]].sum().add_prefix(\"SumOf_\")\n",
    "res2 = res1.reset_index()\n"
   ]
  },
  {
   "cell_type": "code",
   "execution_count": 74,
   "metadata": {},
   "outputs": [
    {
     "data": {
      "image/png": "[encoded data removed]",
      "text/plain": [
       "<Figure size 432x288 with 1 Axes>"
      ]
     },
     "metadata": {},
     "output_type": "display_data"
    }
   ],
   "source": [
    "res1.plot(kind=\"pie\",subplots=True,legend=False, autopct=\"%.2f%%\",\n",
    "          explode=[0.1,0.2,0.12,0.23,0.22,0.1,0.29,0.21,0.22,0.1,0.2,0.3])  # breaks pie\n",
    "plt.ylabel(\"\")\n",
    "plt.show()"
   ]
  },
  {
   "cell_type": "code",
   "execution_count": 75,
   "metadata": {},
   "outputs": [
    {
     "data": {
      "image/png": "[encoded data removed]",
      "text/plain": [
       "<Figure size 1008x360 with 3 Axes>"
      ]
     },
     "metadata": {},
     "output_type": "display_data"
    }
   ],
   "source": [
    "# .plot() for wide format data\n",
    "res2_wide = res2.pivot_table(index=\"Location\",columns=\"StoreType\",values=\"SumOf_TotalSales\")\n",
    "res2_wide.plot(kind=\"pie\",subplots=True,legend=False,figsize = (14,5))  #figszie gives you to adjust size\n",
    "plt.ylabel(\"\")\n",
    "plt.show()"
   ]
  },
  {
   "cell_type": "code",
   "execution_count": null,
   "metadata": {},
   "outputs": [],
   "source": []
  },
  {
   "cell_type": "code",
   "execution_count": null,
   "metadata": {},
   "outputs": [],
   "source": []
  }
 ],
 "metadata": {
  "kernelspec": {
   "display_name": "Python 3",
   "language": "python",
   "name": "python3"
  },
  "language_info": {
   "codemirror_mode": {
    "name": "ipython",
    "version": 3
   },
   "file_extension": ".py",
   "mimetype": "text/x-python",
   "name": "python",
   "nbconvert_exporter": "python",
   "pygments_lexer": "ipython3",
   "version": "3.7.6"
  }
 },
 "nbformat": 4,
 "nbformat_minor": 2
}
